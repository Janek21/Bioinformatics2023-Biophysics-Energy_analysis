{
 "cells": [
  {
   "cell_type": "markdown",
   "id": "013587cf",
   "metadata": {},
   "source": [
    "# INITIALIZATION"
   ]
  },
  {
   "cell_type": "code",
   "execution_count": 1,
   "id": "c261f3fe",
   "metadata": {},
   "outputs": [],
   "source": [
    "# Loading some modules\n",
    "%load_ext autoreload\n",
    "%autoreload 2\n",
    "\n",
    "# Getting basic libraries:\n",
    "import os, sys, math\n",
    "import numpy as np\n",
    "from Bio.PDB import *\n",
    "\n",
    "# Libraries for structure checking: --> \n",
    "import biobb_structure_checking\n",
    "import biobb_structure_checking.constants as cts\n",
    "from biobb_structure_checking.structure_checking import StructureChecking\n",
    "base_dir_path=biobb_structure_checking.__path__[0]\n",
    "args = cts.set_defaults(base_dir_path,{'notebook':True})"
   ]
  },
  {
   "cell_type": "markdown",
   "id": "b8e8e152",
   "metadata": {},
   "source": [
    "# PREPARATION"
   ]
  },
  {
   "cell_type": "markdown",
   "id": "906303b3",
   "metadata": {},
   "source": [
    "All data should be in a folder named assignment_data"
   ]
  },
  {
   "cell_type": "markdown",
   "id": "01509892",
   "metadata": {},
   "source": [
    "    1 - Obtain the required structure from the PDB"
   ]
  },
  {
   "cell_type": "code",
   "execution_count": 2,
   "id": "91f7c4e0",
   "metadata": {},
   "outputs": [],
   "source": [
    "# Loading the protein into a variable\n",
    "f=open(\"./assignment_data/6m0j.pdb\", \"r\")\n",
    "parser = PDBParser()\n",
    "structure = parser.get_structure(\"6m0j\",f)\n",
    "st=structure"
   ]
  },
  {
   "cell_type": "markdown",
   "id": "faf33420",
   "metadata": {},
   "source": [
    "    2 - Check at PDB which is the composition of a “Biological unit”. Remove all chains but those involved in the biological unit, if necessary"
   ]
  },
  {
   "cell_type": "code",
   "execution_count": 3,
   "id": "431364ea",
   "metadata": {},
   "outputs": [],
   "source": [
    "# Preparing the paths\n",
    "base_path = './assignment_data/'\n",
    "args['output_format'] = \"pdb\"\n",
    "args['keep_canonical'] = False\n",
    "args['input_structure_path'] = base_path + '6m0j.cif'\n",
    "args['output_structure_path'] = base_path + '6m0j_fixed.pdb'\n",
    "args['output_structure_path_charges'] = base_path + '6m0j_fixed.pdbqt'\n",
    "args['time_limit'] = False\n",
    "args['nocache'] = False\n",
    "args['copy_input'] = False\n",
    "args['build_warnings'] = False\n",
    "args['debug'] = False\n",
    "args['verbose'] = False\n",
    "args['coords_only'] = False\n",
    "args['overwrite'] = False"
   ]
  },
  {
   "cell_type": "code",
   "execution_count": 4,
   "id": "20fd0c1d",
   "metadata": {},
   "outputs": [
    {
     "name": "stdout",
     "output_type": "stream",
     "text": [
      "Canonical sequence for model 0:\n",
      "Structure ./assignment_data/6m0j.cif loaded\n",
      " PDB id: 6M0J \n",
      " Title: Crystal structure of 2019-nCoV spike receptor-binding domain bound with ACE2\n",
      " Experimental method: X-RAY DIFFRACTION\n",
      " Keywords: VIRAL PROTEIN/HYDROLASE\n",
      " Resolution (A): 2.4500\n",
      "\n",
      " Num. models: 1\n",
      " Num. chains: 2 (A: Protein, E: Protein)\n",
      " Num. residues:  876\n",
      " Num. residues with ins. codes:  0\n",
      " Num. residues with H atoms: 0\n",
      " Num. HETATM residues:  85\n",
      " Num. ligands or modified residues:  5\n",
      " Num. water mol.:  80\n",
      " Num. atoms:  6543\n",
      "Metal/Ion residues found\n",
      " ZN A901\n",
      "Small mol ligands found\n",
      "NAG A902\n",
      "NAG A903\n",
      "NAG A904\n",
      "NAG E601\n"
     ]
    }
   ],
   "source": [
    "# Intializing the checking engine, loading the structure and showing info\n",
    "st_c = StructureChecking(base_dir_path, args)"
   ]
  },
  {
   "cell_type": "markdown",
   "id": "fb98f049",
   "metadata": {},
   "source": [
    "    3 - Remove all heteroatoms\n"
   ]
  },
  {
   "cell_type": "code",
   "execution_count": 5,
   "id": "1095347f",
   "metadata": {},
   "outputs": [
    {
     "name": "stdout",
     "output_type": "stream",
     "text": [
      "Running rem_hydrogen.\n",
      "No residues with Hydrogen atoms found\n",
      "Running water. Options: yes\n",
      "Detected 80 Water molecules\n",
      "Canonical sequence for model 0:\n",
      "Removed 80 Water molecules\n",
      "Running metals. Options: All\n",
      "Found 1 Metal ions\n",
      "  ZN A901.ZN \n",
      "Canonical sequence for model 0:\n",
      "Metal Atoms removed All (1)\n",
      "Running ligands. Options: All\n",
      "Detected 4 Ligands\n",
      " NAG A902\n",
      " NAG A903\n",
      " NAG A904\n",
      " NAG E601\n",
      "Canonical sequence for model 0:\n",
      "Ligands removed All (4)\n"
     ]
    }
   ],
   "source": [
    "#Remove Hydrogen\n",
    "st_c.rem_hydrogen()\n",
    "#Remove water\n",
    "st_c.water(\"yes\")\n",
    "#Remove metals\n",
    "st_c.metals(\"All\")\n",
    "#Remove ligands\n",
    "st_c.ligands(\"All\")"
   ]
  },
  {
   "cell_type": "markdown",
   "id": "a5374e93",
   "metadata": {},
   "source": [
    "    4 - Perform a quality checking on the structures, and add missing side-chains and hydrogen atoms and atom charges, using the biobb_structure_checking module"
   ]
  },
  {
   "cell_type": "code",
   "execution_count": 6,
   "id": "8bf7dc39",
   "metadata": {},
   "outputs": [
    {
     "name": "stdout",
     "output_type": "stream",
     "text": [
      "Running amide. Options: All\n",
      "Found 6 unusual contact(s) involving amide atoms\n",
      " VAL A59.O    ASN A63.OD1     2.784 A\n",
      " ALA A80.O    GLN A101.OE1    2.931 A\n",
      " GLN A81.OE1  ASN A103.OD1    2.859 A\n",
      " ASN A134.ND2 ASN A137.N      2.987 A\n",
      " GLU A150.O   ASN A154.OD1    2.871 A\n",
      " ARG E357.NH1 ASN E394.ND2    2.964 A\n",
      "Amide residues fixed All (7)\n",
      "Rechecking\n",
      "Found 4 unusual contact(s) involving amide atoms\n",
      " GLN A81.NE2  ASN A103.ND2    2.859 A\n",
      " ASN A103.OD1 ASN A194.OD1    2.485 A\n",
      " ARG E357.NH1 ASN E394.ND2    3.058 A\n",
      " ASN E394.OD1 GLU E516.OE2    2.870 A\n",
      "Running chiral. Options: All\n",
      "Found no residues with incorrect side-chain chirality\n",
      "Running backbone. Options: --fix_atoms All --fix_chain none --add_caps none\n",
      "Found 2 Residues with missing backbone atoms\n",
      " ASP A615   OXT\n",
      " GLY E526   OXT\n",
      "No backbone breaks\n",
      "No unexpected backbone links\n",
      "Capping terminal ends\n",
      "True terminal residues: A19,A615,E333,E526\n",
      "No caps added\n",
      "Fixing missing backbone atoms\n",
      "Adding missing backbone atoms\n",
      "ASP A615\n",
      "  Adding new atom OXT\n",
      "GLY E526\n",
      "  Adding new atom OXT\n",
      "Fixed 2 backbone atom(s)\n",
      "Checking for steric clashes\n",
      "No severe clashes detected\n",
      "No apolar clashes detected\n",
      "No polar_acceptor clashes detected\n",
      "No polar_donor clashes detected\n",
      "No positive clashes detected\n",
      "No negative clashes detected\n",
      "Running fixside. Options: All\n",
      "Found no residues with missing or unknown side chain atoms\n",
      "Running add_hydrogen. Options: auto\n",
      "Found 240 Residues requiring selection on adding H atoms\n",
      "WARNING: fixing side chains, override with --no_fix_side\n",
      "Running fixside. Options: --fix all\n",
      "Found no residues with missing or unknown side chain atoms\n",
      "Selection: auto\n",
      "Replacing HIS A34 by HIE\n",
      "Replacing HIS A195 by HIE\n",
      "Replacing HIS A228 by HIE\n",
      "Replacing HIS A239 by HIE\n",
      "Replacing HIS A241 by HIE\n",
      "Replacing HIS A265 by HIE\n",
      "Replacing HIS A345 by HIE\n",
      "Replacing HIS A373 by HIE\n",
      "Replacing HIS A374 by HIE\n",
      "Replacing HIS A378 by HIE\n",
      "Replacing HIS A401 by HIE\n",
      "Replacing HIS A417 by HIE\n",
      "Replacing HIS A493 by HIE\n",
      "Replacing HIS A505 by HIE\n",
      "Replacing HIS A535 by HIE\n",
      "Replacing HIS A540 by HIE\n",
      "Replacing HIS E519 by HIE\n"
     ]
    }
   ],
   "source": [
    "#Fix amides\n",
    "st_c.amide(\"All\")\n",
    "#fix the chirality of some aa\n",
    "st_c.chiral(\"All\") \n",
    "#fix the backbone\n",
    "st_c.backbone('--fix_atoms All --fix_chain none --add_caps none')\n",
    "#detects and rebuilds missing protein side chains\n",
    "st_c.fixside(\"All\")\n",
    "#add hydrogens\n",
    "st_c.add_hydrogen(\"auto\")\n",
    "\n",
    "#you could also do everything with st_c.checkall() but we did it manually so its clearer what we do\n",
    "st_c._save_structure(args['output_structure_path'])\n",
    "\n",
    "f.close()"
   ]
  },
  {
   "cell_type": "markdown",
   "id": "507ab08c",
   "metadata": {},
   "source": [
    "## STEP 1"
   ]
  },
  {
   "cell_type": "code",
   "execution_count": 7,
   "id": "bc33286a",
   "metadata": {},
   "outputs": [
    {
     "name": "stdout",
     "output_type": "stream",
     "text": [
      "{393, 19, 24, 27, 28, 30, 31, 417, 34, 35, 37, 38, 41, 42, 45, 446, 447, 449, 453, 455, 456, 330, 79, 82, 83, 473, 475, 476, 353, 354, 355, 484, 357, 486, 487, 489, 493, 496, 498, 500, 501, 502, 505}\n"
     ]
    }
   ],
   "source": [
    "#Finding out atoms in both chains\n",
    "def chain_atoms(structure, dt):\n",
    "    model =structure[0]\n",
    "    t=0\n",
    "    chain1_atoms=[]\n",
    "    chain2_atoms=[]\n",
    "    for chain in model:\n",
    "        if t==0:\n",
    "            t=1\n",
    "            for residual in chain.get_residues():\n",
    "                for atom1 in residual:\n",
    "                    chain1_atoms.append(atom1)\n",
    "        else:\n",
    "            for residual in chain.get_residues():\n",
    "                for atom2 in residual:\n",
    "                    chain2_atoms.append(atom2)\n",
    "    return chain_comparison(chain1_atoms, chain2_atoms, dt)\n",
    "\n",
    "#comparing atoms of both chains\n",
    "def chain_comparison(chain1_atoms, chain2_atoms, dt):\n",
    "    interface_residues=set()\n",
    "    for a1 in chain1_atoms:\n",
    "        for a2 in chain2_atoms:\n",
    "            if a1.get_parent().id==a1.get_parent().id and a2.get_parent().id == a2.get_parent().id:\n",
    "                distance=a1-a2\n",
    "            if distance<=dt:#dt is the treshold of the distance\n",
    "                interface_residues.add(a1.get_parent().id[1])\n",
    "                interface_residues.add(a2.get_parent().id[1])\n",
    "    return interface_residues\n",
    "\n",
    "dt=5\n",
    "print(chain_atoms(structure, dt))"
   ]
  },
  {
   "cell_type": "markdown",
   "id": "9925bb26",
   "metadata": {},
   "source": [
    "## Step 2"
   ]
  },
  {
   "cell_type": "markdown",
   "id": "455dc348",
   "metadata": {},
   "source": [
    "Step 2 preparation"
   ]
  },
  {
   "cell_type": "code",
   "execution_count": null,
   "id": "3e127627",
   "metadata": {},
   "outputs": [],
   "source": [
    "from modules_classes import *\n",
    "\n",
    "def calc_solvation(st, res):\n",
    "    '''Solvation energy based on ASA'''\n",
    "    solv = 0.\n",
    "    for at in res.get_atoms():\n",
    "        if 'EXP_NACCESS' not in at.xtra:\n",
    "            continue\n",
    "        s = float(at.xtra['EXP_NACCESS'])* at.xtra['vdw'].fsrf\n",
    "        solv += s\n",
    "    return solv\n",
    "\n",
    "\n",
    "def vdw_int(at1, at2, r):\n",
    "    '''Vdw interaction energy between two atoms'''\n",
    "    eps12 = math.sqrt(at1.xtra['vdw'].eps * at2.xtra['vdw'].eps)\n",
    "    sig12_2 = at1.xtra['vdw'].sig * at2.xtra['vdw'].sig\n",
    "    return 4 * eps12 * (sig12_2**6/r**12 - sig12_2**3/r**6)\n",
    "\n",
    "def MH_diel(r):\n",
    "    '''Mehler-Solmajer dielectric'''\n",
    "    return 86.9525 / (1 - 7.7839 * math.exp(-0.3153 * r)) - 8.5525\n",
    "\n",
    "def elec_int(at1, at2, r):\n",
    "    '''Electrostatic interaction energy between two atoms at r distance'''\n",
    "    return 332.16 * at1.xtra['charge'] * at2.xtra['charge'] / MH_diel(r) / r\n",
    "\n",
    "def calc_int_energies(st, res):\n",
    "    elec = 0.\n",
    "    vdw = 0.\n",
    "    for at1 in res.get_atoms():\n",
    "        for at2 in st.get_atoms():\n",
    "        # skip same chain atom pairs\n",
    "            if at2.get_parent().get_parent() != res.get_parent():\n",
    "                r = at1 - at2\n",
    "                e = elec_int(at1, at2, r)\n",
    "                elec += e\n",
    "                e = vdw_int(at1, at2, r)\n",
    "                vdw += e\n",
    "    return elec, vdw\n",
    "\n",
    "def add_atom_parameters(st, res_lib, ff_params):\n",
    "    ''' Adds parameters from libraries to atom .xtra field\n",
    "        For not recognized atoms, issues a warning and put default parameters\n",
    "    '''\n",
    "    for at in st.get_atoms():\n",
    "        resname = at.get_parent().get_resname()\n",
    "        params = res_lib.get_params(resname, at.id)\n",
    "        if not params:\n",
    "            #print(\"WARNING: residue/atom pair not in library (\"+atom_id(at) + ')')\n",
    "            at.xtra['atom_type'] = at.element\n",
    "            at.xtra['charge'] = 0\n",
    "        else:\n",
    "            at.xtra['atom_type'] = params.at_type\n",
    "            at.xtra['charge'] = params.charge\n",
    "        at.xtra['vdw'] = ff_params.at_types[at.xtra['atom_type']]"
   ]
  },
  {
   "cell_type": "markdown",
   "id": "b78a4491",
   "metadata": {},
   "source": [
    "Step 2 execution"
   ]
  },
  {
   "cell_type": "code",
   "execution_count": 3,
   "id": "dd69502e",
   "metadata": {},
   "outputs": [
    {
     "name": "stdout",
     "output_type": "stream",
     "text": [
      "Input working directory: /home/jj/Desktop/Bioinformatics/Github/Bioinformatics_p/Biophysics/Biophysics_A1\n",
      "WARNING: atom not found in library ( GLY:OXT )\n",
      "Electrostatic interactions: 32.39369940518064\n",
      "Van der Waals interactions -153.6372390102208\n",
      "Solvation A-B complex: -10.092080999999999\n",
      "Solvation of A: -21.994508\n",
      "Solvation of B 11.902427\n",
      "('Interaction energy between components in A-B complex:', -121.24353960504017)\n"
     ]
    }
   ],
   "source": [
    "\n",
    "wd=str(input(\"Input working directory: \"))\n",
    "residue_library = ResiduesDataLib(wd+'/assignment_data/parameters_step2.lib')\n",
    "ff_params = VdwParamset(wd+'/assignment_data/parameters_vanderw.txt')\n",
    "NACCESS_BINARY =wd+'/soft/NACCESS/naccess'\n",
    "\n",
    "add_atom_parameters(st, residue_library,ff_params)\n",
    "def chain_atoms2(structure, dt):\n",
    "    model =structure[0]\n",
    "    t=0\n",
    "    chain1_atoms=set()\n",
    "    chain2_atoms=set()\n",
    "    for chain in model:\n",
    "        if t==0:\n",
    "            t=1\n",
    "            chain1=chain\n",
    "        else: chain2=chain\n",
    "    NeighborSearch_chain2 = NeighborSearch(list(chain2.get_atoms()))\n",
    "    for residual1 in chain1.get_residues():\n",
    "        for atom1 in residual1:\n",
    "            Neighbor_atom_chain2 = NeighborSearch_chain2.search(atom1.coord, dt)\n",
    "            for atom2 in Neighbor_atom_chain2:\n",
    "                residual2=atom2.get_parent()\n",
    "                chain1_atoms.add(residual1)\n",
    "                chain2_atoms.add(residual2) \n",
    "    return calc(chain1_atoms, chain2_atoms)\n",
    "\n",
    "def calc(chain1_atoms, chain2_atoms):\n",
    "    s=sA=sE=e=v=0\n",
    "    for res in chain1_atoms:\n",
    "        s += calc_solvation(st[0], res)\n",
    "        sA += calc_solvation(st[0]['A'], res)\n",
    "        E, V = calc_int_energies(st, res)\n",
    "        e+=E\n",
    "        v+=V\n",
    "    for res in chain2_atoms:\n",
    "        s += calc_solvation(st[0], res)\n",
    "        sE += calc_solvation(st[0]['E'], res)\n",
    "        E, V = calc_int_energies(st, res)\n",
    "        e+=E\n",
    "        v+=V\n",
    "    G = e + v + s - sA - sE\n",
    "    print(\"Electrostatic interactions:\", e)\n",
    "    print(\"Van der Waals interactions\", v)\n",
    "    print(\"Solvation A-B complex:\", s)\n",
    "    print(\"Solvation of A:\", sA)\n",
    "    print(\"Solvation of B\", sE)\n",
    "    return(\"Interaction energy between components in A-B complex:\",G)\n",
    "print(chain_atoms2(structure, dt))"
   ]
  },
  {
   "cell_type": "code",
   "execution_count": 1,
   "id": "4bb26c12",
   "metadata": {},
   "outputs": [
    {
     "name": "stdout",
     "output_type": "stream",
     "text": [
      "WARNING: atom not found in library ( SER:H1 )\n",
      "WARNING: atom not found in library ( SER:H2 )\n",
      "WARNING: atom not found in library ( SER:H3 )\n",
      "WARNING: atom not found in library ( ASP:OXT )\n",
      "WARNING: atom not found in library ( THR:H1 )\n",
      "WARNING: atom not found in library ( THR:H2 )\n",
      "WARNING: atom not found in library ( THR:H3 )\n",
      "WARNING: atom not found in library ( GLY:OXT )\n",
      "Electrostatic interactions: 3.7189757150511804\n",
      "Van der Waals interactions -154.05349663187712\n",
      "Solvation A-B complex: -10.785248999999999\n",
      "Solvation of A: -22.42739\n",
      "Solvation of B 11.642141\n",
      "('Interaction energy between components in A-B complex:', -150.33452091682594)\n"
     ]
    },
    {
     "ename": "KeyboardInterrupt",
     "evalue": "",
     "output_type": "error",
     "traceback": [
      "\u001b[0;31m---------------------------------------------------------------------------\u001b[0m",
      "\u001b[0;31mKeyboardInterrupt\u001b[0m                         Traceback (most recent call last)",
      "Input \u001b[0;32mIn [1]\u001b[0m, in \u001b[0;36m<cell line: 4>\u001b[0;34m()\u001b[0m\n\u001b[1;32m      2\u001b[0m \u001b[38;5;28;01mfrom\u001b[39;00m \u001b[38;5;21;01mS2m3_module2\u001b[39;00m \u001b[38;5;28;01mimport\u001b[39;00m \u001b[38;5;241m*\u001b[39m\n\u001b[1;32m      3\u001b[0m \u001b[38;5;28;01mfrom\u001b[39;00m \u001b[38;5;21;01mS2m3\u001b[39;00m \u001b[38;5;28;01mimport\u001b[39;00m \u001b[38;5;241m*\u001b[39m\n\u001b[0;32m----> 4\u001b[0m \u001b[38;5;28mprint\u001b[39m(\u001b[43mchain_atoms\u001b[49m\u001b[43m(\u001b[49m\u001b[43mstructure\u001b[49m\u001b[43m,\u001b[49m\u001b[43m \u001b[49m\u001b[43mdt\u001b[49m\u001b[43m)\u001b[49m)\n",
      "File \u001b[0;32m~/Desktop/Bioinformatics/Github/Bioinformatics_p/Biophysics/Biophysics_A1/S2m3.py:36\u001b[0m, in \u001b[0;36mchain_atoms\u001b[0;34m(structure, dt)\u001b[0m\n\u001b[1;32m     34\u001b[0m             chain1_atoms\u001b[38;5;241m.\u001b[39madd(residual1)\n\u001b[1;32m     35\u001b[0m             chain2_atoms\u001b[38;5;241m.\u001b[39madd(residual2) \n\u001b[0;32m---> 36\u001b[0m \u001b[38;5;28;01mreturn\u001b[39;00m \u001b[43mcalc\u001b[49m\u001b[43m(\u001b[49m\u001b[43mchain1_atoms\u001b[49m\u001b[43m,\u001b[49m\u001b[43m \u001b[49m\u001b[43mchain2_atoms\u001b[49m\u001b[43m)\u001b[49m\n",
      "File \u001b[0;32m~/Desktop/Bioinformatics/Github/Bioinformatics_p/Biophysics/Biophysics_A1/S2m3.py:49\u001b[0m, in \u001b[0;36mcalc\u001b[0;34m(chain1_atoms, chain2_atoms)\u001b[0m\n\u001b[1;32m     47\u001b[0m s \u001b[38;5;241m+\u001b[39m\u001b[38;5;241m=\u001b[39m calc_solvation(st[\u001b[38;5;241m0\u001b[39m], res)\n\u001b[1;32m     48\u001b[0m sE \u001b[38;5;241m+\u001b[39m\u001b[38;5;241m=\u001b[39m calc_solvation(st[\u001b[38;5;241m0\u001b[39m][\u001b[38;5;124m'\u001b[39m\u001b[38;5;124mE\u001b[39m\u001b[38;5;124m'\u001b[39m], res)\n\u001b[0;32m---> 49\u001b[0m E, V \u001b[38;5;241m=\u001b[39m \u001b[43mcalc_int_energies\u001b[49m\u001b[43m(\u001b[49m\u001b[43mst\u001b[49m\u001b[43m,\u001b[49m\u001b[43m \u001b[49m\u001b[43mres\u001b[49m\u001b[43m)\u001b[49m\n\u001b[1;32m     50\u001b[0m e\u001b[38;5;241m+\u001b[39m\u001b[38;5;241m=\u001b[39mE\n\u001b[1;32m     51\u001b[0m v\u001b[38;5;241m+\u001b[39m\u001b[38;5;241m=\u001b[39mV\n",
      "File \u001b[0;32m~/Desktop/Bioinformatics/Github/Bioinformatics_p/Biophysics/Biophysics_A1/S2m3_module2.py:39\u001b[0m, in \u001b[0;36mcalc_int_energies\u001b[0;34m(st, res)\u001b[0m\n\u001b[1;32m     37\u001b[0m             e \u001b[38;5;241m=\u001b[39m elec_int(at1, at2, r)\n\u001b[1;32m     38\u001b[0m             elec \u001b[38;5;241m+\u001b[39m\u001b[38;5;241m=\u001b[39m e\n\u001b[0;32m---> 39\u001b[0m             e \u001b[38;5;241m=\u001b[39m \u001b[43mvdw_int\u001b[49m\u001b[43m(\u001b[49m\u001b[43mat1\u001b[49m\u001b[43m,\u001b[49m\u001b[43m \u001b[49m\u001b[43mat2\u001b[49m\u001b[43m,\u001b[49m\u001b[43m \u001b[49m\u001b[43mr\u001b[49m\u001b[43m)\u001b[49m\n\u001b[1;32m     40\u001b[0m             vdw \u001b[38;5;241m+\u001b[39m\u001b[38;5;241m=\u001b[39m e\n\u001b[1;32m     41\u001b[0m \u001b[38;5;28;01mreturn\u001b[39;00m elec, vdw\n",
      "File \u001b[0;32m~/Desktop/Bioinformatics/Github/Bioinformatics_p/Biophysics/Biophysics_A1/S2m3_module2.py:19\u001b[0m, in \u001b[0;36mvdw_int\u001b[0;34m(at1, at2, r)\u001b[0m\n\u001b[1;32m     17\u001b[0m eps12 \u001b[38;5;241m=\u001b[39m math\u001b[38;5;241m.\u001b[39msqrt(at1\u001b[38;5;241m.\u001b[39mxtra[\u001b[38;5;124m'\u001b[39m\u001b[38;5;124mvdw\u001b[39m\u001b[38;5;124m'\u001b[39m]\u001b[38;5;241m.\u001b[39meps \u001b[38;5;241m*\u001b[39m at2\u001b[38;5;241m.\u001b[39mxtra[\u001b[38;5;124m'\u001b[39m\u001b[38;5;124mvdw\u001b[39m\u001b[38;5;124m'\u001b[39m]\u001b[38;5;241m.\u001b[39meps)\n\u001b[1;32m     18\u001b[0m sig12_2 \u001b[38;5;241m=\u001b[39m at1\u001b[38;5;241m.\u001b[39mxtra[\u001b[38;5;124m'\u001b[39m\u001b[38;5;124mvdw\u001b[39m\u001b[38;5;124m'\u001b[39m]\u001b[38;5;241m.\u001b[39msig \u001b[38;5;241m*\u001b[39m at2\u001b[38;5;241m.\u001b[39mxtra[\u001b[38;5;124m'\u001b[39m\u001b[38;5;124mvdw\u001b[39m\u001b[38;5;124m'\u001b[39m]\u001b[38;5;241m.\u001b[39msig\n\u001b[0;32m---> 19\u001b[0m \u001b[38;5;28;01mreturn\u001b[39;00m \u001b[38;5;241m4\u001b[39m \u001b[38;5;241m*\u001b[39m eps12 \u001b[38;5;241m*\u001b[39m (sig12_2\u001b[38;5;241m*\u001b[39m\u001b[38;5;241m*\u001b[39m\u001b[38;5;241m6\u001b[39m\u001b[38;5;241m/\u001b[39mr\u001b[38;5;241m*\u001b[39m\u001b[38;5;241m*\u001b[39m\u001b[38;5;241m12\u001b[39m \u001b[38;5;241m-\u001b[39m sig12_2\u001b[38;5;241m*\u001b[39m\u001b[38;5;241m*\u001b[39m\u001b[38;5;241m3\u001b[39m\u001b[38;5;241m/\u001b[39m\u001b[43mr\u001b[49m\u001b[38;5;241;43m*\u001b[39;49m\u001b[38;5;241;43m*\u001b[39;49m\u001b[38;5;241;43m6\u001b[39;49m)\n",
      "\u001b[0;31mKeyboardInterrupt\u001b[0m: "
     ]
    }
   ],
   "source": []
  },
  {
   "cell_type": "code",
   "execution_count": null,
   "id": "8f493207",
   "metadata": {},
   "outputs": [],
   "source": []
  }
 ],
 "metadata": {
  "kernelspec": {
   "display_name": "Python 3 (ipykernel)",
   "language": "python",
   "name": "python3"
  },
  "language_info": {
   "codemirror_mode": {
    "name": "ipython",
    "version": 3
   },
   "file_extension": ".py",
   "mimetype": "text/x-python",
   "name": "python",
   "nbconvert_exporter": "python",
   "pygments_lexer": "ipython3",
   "version": "3.9.12"
  }
 },
 "nbformat": 4,
 "nbformat_minor": 5
}
