{
 "cells": [
  {
   "cell_type": "code",
   "execution_count": 1,
   "id": "18160ca4",
   "metadata": {},
   "outputs": [],
   "source": [
    "# Importing needed libraries:\n",
    "import argparse\n",
    "import os\n",
    "\n",
    "from Bio.PDB.PDBParser import PDBParser\n",
    "from Bio.PDB.NACCESS import NACCESS_atomic\n",
    "from Bio.PDB.PDBIO import PDBIO, Select\n",
    "\n",
    "from modules_classes import ResiduesDataLib\n",
    "from modules_classes import VdwParamset\n",
    "import step2_energies as en"
   ]
  },
  {
   "cell_type": "code",
   "execution_count": 2,
   "id": "02896df1",
   "metadata": {},
   "outputs": [],
   "source": [
    "# Defining the path for the NACCES file\n",
    "NACCESS_BINARY = '/soft/NACCESS/naccess'"
   ]
  },
  {
   "cell_type": "code",
   "execution_count": 3,
   "metadata": {},
   "outputs": [
    {
     "data": {
      "text/plain": [
       "_StoreAction(option_strings=['--dist'], dest='cutoff_dist', nargs=None, const=None, default=8.0, type=<class 'float'>, choices=None, help='Cutoff distance for determining the interface (0: use all residues):', metavar=None)"
      ]
     },
     "execution_count": 3,
     "metadata": {},
     "output_type": "execute_result"
    }
   ],
   "source": [
    "# Adding arguments:\n",
    "parse_cmd = argparse.ArgumentParser(\n",
    "\tprog='binding',\n",
    "\tdescription='binding energy calculation'\n",
    ")\n",
    "\n",
    "parse_cmd.add_argument(\n",
    "\t'--rlib',\n",
    "\taction='store',\n",
    "\tdest='reslib_file',\n",
    "\tdefault='data/aaLib.lib',\n",
    "\thelp='Residue Library'\n",
    ")\n",
    "parse_cmd.add_argument(\n",
    "\t'--vdw',\n",
    "\taction='store',\n",
    "\tdest='vdwprm_file',\n",
    "\tdefault='data/vdwprm',\n",
    "\thelp='Vdw parameters'\n",
    ")\n",
    "\n",
    "parse_cmd.add_argument(\n",
    "\t'--dist',\n",
    "\taction='store',\n",
    "\tdest='cutoff_dist',\n",
    "\tdefault=8.0,\n",
    "\ttype=float,\n",
    "\thelp='Cutoff distance for determining the interface (0: use all residues):'\n",
    ")"
   ]
  },
  {
   "cell_type": "code",
   "execution_count": null,
   "metadata": {},
   "outputs": [],
   "source": [
    "# Adding arguments and display of the arguments\n",
    "parse_cmd.add_argument('pdb_file', help='Input PDB', type=open)\n",
    "\n",
    "args = parse_cmd.parse_args()"
   ]
  }
 ],
 "metadata": {
  "kernelspec": {
   "display_name": "Python 3 (ipykernel)",
   "language": "python",
   "name": "python3"
  },
  "language_info": {
   "codemirror_mode": {
    "name": "ipython",
    "version": 3
   },
   "file_extension": ".py",
   "mimetype": "text/x-python",
   "name": "python",
   "nbconvert_exporter": "python",
   "pygments_lexer": "ipython3",
   "version": "3.9.12"
  }
 },
 "nbformat": 4,
 "nbformat_minor": 5
}
