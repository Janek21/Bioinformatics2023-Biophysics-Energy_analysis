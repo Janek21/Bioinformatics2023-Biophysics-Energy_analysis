{
 "cells": [
  {
   "cell_type": "markdown",
   "metadata": {},
   "source": [
    "Initialization"
   ]
  },
  {
   "cell_type": "code",
   "execution_count": 8,
   "id": "c261f3fe",
   "metadata": {},
   "outputs": [
    {
     "name": "stdout",
     "output_type": "stream",
     "text": [
      "The autoreload extension is already loaded. To reload it, use:\n",
      "  %reload_ext autoreload\n"
     ]
    },
    {
     "ename": "ModuleNotFoundError",
     "evalue": "No module named 'biobb_structure_checking'",
     "output_type": "error",
     "traceback": [
      "\u001b[0;31m---------------------------------------------------------------------------\u001b[0m",
      "\u001b[0;31mModuleNotFoundError\u001b[0m                       Traceback (most recent call last)",
      "\u001b[1;32m/home/jaume/Desktop/Year_2/Biophysics/Project: Energy_Analysis/Biophysics_A1/biophysics_project.ipynb Cell 2\u001b[0m line \u001b[0;36m<cell line: 11>\u001b[0;34m()\u001b[0m\n\u001b[1;32m      <a href='vscode-notebook-cell:/home/jaume/Desktop/Year_2/Biophysics/Project%3A%20Energy_Analysis/Biophysics_A1/biophysics_project.ipynb#W0sZmlsZQ%3D%3D?line=7'>8</a>\u001b[0m \u001b[39mfrom\u001b[39;00m \u001b[39mBio\u001b[39;00m\u001b[39m.\u001b[39;00m\u001b[39mPDB\u001b[39;00m \u001b[39mimport\u001b[39;00m \u001b[39m*\u001b[39m\n\u001b[1;32m     <a href='vscode-notebook-cell:/home/jaume/Desktop/Year_2/Biophysics/Project%3A%20Energy_Analysis/Biophysics_A1/biophysics_project.ipynb#W0sZmlsZQ%3D%3D?line=9'>10</a>\u001b[0m \u001b[39m# Libraries for structure checking:\u001b[39;00m\n\u001b[0;32m---> <a href='vscode-notebook-cell:/home/jaume/Desktop/Year_2/Biophysics/Project%3A%20Energy_Analysis/Biophysics_A1/biophysics_project.ipynb#W0sZmlsZQ%3D%3D?line=10'>11</a>\u001b[0m \u001b[39mimport\u001b[39;00m \u001b[39mbiobb_structure_checking\u001b[39;00m\n\u001b[1;32m     <a href='vscode-notebook-cell:/home/jaume/Desktop/Year_2/Biophysics/Project%3A%20Energy_Analysis/Biophysics_A1/biophysics_project.ipynb#W0sZmlsZQ%3D%3D?line=11'>12</a>\u001b[0m \u001b[39mimport\u001b[39;00m \u001b[39mbiobb_structure_checking\u001b[39;00m\u001b[39m.\u001b[39;00m\u001b[39mconstants\u001b[39;00m \u001b[39mas\u001b[39;00m \u001b[39mcts\u001b[39;00m\n\u001b[1;32m     <a href='vscode-notebook-cell:/home/jaume/Desktop/Year_2/Biophysics/Project%3A%20Energy_Analysis/Biophysics_A1/biophysics_project.ipynb#W0sZmlsZQ%3D%3D?line=12'>13</a>\u001b[0m \u001b[39mfrom\u001b[39;00m \u001b[39mbiobb_structure_checking\u001b[39;00m\u001b[39m.\u001b[39;00m\u001b[39mstructure_checking\u001b[39;00m \u001b[39mimport\u001b[39;00m StructureChecking\n",
      "\u001b[0;31mModuleNotFoundError\u001b[0m: No module named 'biobb_structure_checking'"
     ]
    }
   ],
   "source": [
    "# Loading some modules\n",
    "%load_ext autoreload\n",
    "%autoreload 2\n",
    "\n",
    "# Getting basic libraries:\n",
    "import os, sys, math\n",
    "import numpy as np\n",
    "from Bio.PDB import *\n",
    "\n",
    "# Libraries for structure checking: --> \n",
    "import biobb_structure_checking\n",
    "import biobb_structure_checking.constants as cts\n",
    "from biobb_structure_checking.structure_checking import StructureChecking\n",
    "base_dir_path=biobb_structure_checking.__path__[0]\n",
    "args = cts.set_defaults(base_dir_path,{'notebook':True})"
   ]
  },
  {
   "cell_type": "markdown",
   "metadata": {},
   "source": [
    "PREPARATION"
   ]
  },
  {
   "cell_type": "code",
   "execution_count": 3,
   "id": "91f7c4e0",
   "metadata": {},
   "outputs": [
    {
     "name": "stderr",
     "output_type": "stream",
     "text": [
      "/home/jaume/anaconda3/lib/python3.9/site-packages/Bio/PDB/StructureBuilder.py:89: PDBConstructionWarning: WARNING: Chain A is discontinuous at line 6961.\n",
      "  warnings.warn(\n",
      "/home/jaume/anaconda3/lib/python3.9/site-packages/Bio/PDB/StructureBuilder.py:89: PDBConstructionWarning: WARNING: Chain E is discontinuous at line 7019.\n",
      "  warnings.warn(\n",
      "/home/jaume/anaconda3/lib/python3.9/site-packages/Bio/PDB/StructureBuilder.py:89: PDBConstructionWarning: WARNING: Chain A is discontinuous at line 7033.\n",
      "  warnings.warn(\n",
      "/home/jaume/anaconda3/lib/python3.9/site-packages/Bio/PDB/StructureBuilder.py:89: PDBConstructionWarning: WARNING: Chain E is discontinuous at line 7104.\n",
      "  warnings.warn(\n"
     ]
    }
   ],
   "source": [
    "# 1 - Obtain the required structure from the PDB\n",
    "parser = PDBParser()\n",
    "structure = parser.get_structure(\"6m0j\",\"6m0j.pdb\")"
   ]
  },
  {
   "cell_type": "code",
   "execution_count": null,
   "metadata": {},
   "outputs": [],
   "source": [
    "# 2 - Determine the contribution to the stability of the complex by mimicking a traditional Ala-scanning experiment, i.e.\n",
    "# replacing each residue in turn by Ala and evaluating the changes in the complex interaction energy\n"
   ]
  },
  {
   "cell_type": "code",
   "execution_count": null,
   "metadata": {},
   "outputs": [],
   "source": [
    "# 3 - Remove all heteroatoms\n"
   ]
  },
  {
   "cell_type": "code",
   "execution_count": null,
   "metadata": {},
   "outputs": [],
   "source": [
    "# 4 - Perform a quality checking on the structures, and add missing side-chains and hydrogen atoms and atom charges, using\n",
    "# the biobb_structure_checking module"
   ]
  },
  {
   "cell_type": "markdown",
   "metadata": {},
   "source": []
  }
 ],
 "metadata": {
  "kernelspec": {
   "display_name": "Python 3 (ipykernel)",
   "language": "python",
   "name": "python3"
  },
  "language_info": {
   "codemirror_mode": {
    "name": "ipython",
    "version": 3
   },
   "file_extension": ".py",
   "mimetype": "text/x-python",
   "name": "python",
   "nbconvert_exporter": "python",
   "pygments_lexer": "ipython3",
   "version": "3.9.12"
  }
 },
 "nbformat": 4,
 "nbformat_minor": 5
}
