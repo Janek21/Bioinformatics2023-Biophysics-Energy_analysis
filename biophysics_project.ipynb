{
 "cells": [
  {
   "cell_type": "code",
   "execution_count": 2,
   "id": "c261f3fe",
   "metadata": {},
   "outputs": [],
   "source": [
    "# Getting the libraries:\n",
    "import os, sys, math\n",
    "import numpy as np\n",
    "from Bio.PDB import *"
   ]
  },
  {
   "cell_type": "markdown",
   "metadata": {},
   "source": [
    "PREPARATION"
   ]
  },
  {
   "cell_type": "code",
   "execution_count": 3,
   "id": "91f7c4e0",
   "metadata": {},
   "outputs": [
    {
     "name": "stderr",
     "output_type": "stream",
     "text": [
      "/home/jaume/anaconda3/lib/python3.9/site-packages/Bio/PDB/StructureBuilder.py:89: PDBConstructionWarning: WARNING: Chain A is discontinuous at line 6961.\n",
      "  warnings.warn(\n",
      "/home/jaume/anaconda3/lib/python3.9/site-packages/Bio/PDB/StructureBuilder.py:89: PDBConstructionWarning: WARNING: Chain E is discontinuous at line 7019.\n",
      "  warnings.warn(\n",
      "/home/jaume/anaconda3/lib/python3.9/site-packages/Bio/PDB/StructureBuilder.py:89: PDBConstructionWarning: WARNING: Chain A is discontinuous at line 7033.\n",
      "  warnings.warn(\n",
      "/home/jaume/anaconda3/lib/python3.9/site-packages/Bio/PDB/StructureBuilder.py:89: PDBConstructionWarning: WARNING: Chain E is discontinuous at line 7104.\n",
      "  warnings.warn(\n"
     ]
    }
   ],
   "source": [
    "# 1 - Obtain the required structure from the PDB\n",
    "parser = PDBParser()\n",
    "structure = parser.get_structure(\"6m0j\",\"6m0j.pdb\")\n",
    "\n",
    "# 2 - Determine the contribution to the stability of the complex by mimicking a traditional Ala-scanning experiment, i.e.\n",
    "# replacing each residue in turn by Ala and evaluating the changes in the complex interaction energy\n",
    "\n",
    "\n",
    "# 3 - Remove all heteroatoms\n",
    "\n",
    "\n",
    "# 4 - Perform a quality checking on the structures, and add missing side-chains and hydrogen atoms and atom charges, using\n",
    "# the biobb_structure_checking module"
   ]
  },
  {
   "cell_type": "code",
   "execution_count": null,
   "metadata": {},
   "outputs": [],
   "source": []
  }
 ],
 "metadata": {
  "kernelspec": {
   "display_name": "Python 3 (ipykernel)",
   "language": "python",
   "name": "python3"
  },
  "language_info": {
   "codemirror_mode": {
    "name": "ipython",
    "version": 3
   },
   "file_extension": ".py",
   "mimetype": "text/x-python",
   "name": "python",
   "nbconvert_exporter": "python",
   "pygments_lexer": "ipython3",
   "version": "3.9.12"
  }
 },
 "nbformat": 4,
 "nbformat_minor": 5
}
