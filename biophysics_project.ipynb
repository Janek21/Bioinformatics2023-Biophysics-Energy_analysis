{
 "cells": [
  {
   "cell_type": "markdown",
   "id": "013587cf",
   "metadata": {},
   "source": [
    "# INITIALIZATION"
   ]
  },
  {
   "cell_type": "code",
   "execution_count": 9,
   "id": "c261f3fe",
   "metadata": {},
   "outputs": [
    {
     "name": "stdout",
     "output_type": "stream",
     "text": [
      "The autoreload extension is already loaded. To reload it, use:\n",
      "  %reload_ext autoreload\n"
     ]
    }
   ],
   "source": [
    "# Loading some modules\n",
    "%load_ext autoreload\n",
    "%autoreload 2\n",
    "\n",
    "# Getting basic libraries:\n",
    "import os, sys, math\n",
    "import numpy as np\n",
    "from Bio.PDB import *\n",
    "\n",
    "# Libraries for structure checking: --> \n",
    "import biobb_structure_checking\n",
    "import biobb_structure_checking.constants as cts\n",
    "from biobb_structure_checking.structure_checking import StructureChecking\n",
    "base_dir_path=biobb_structure_checking.__path__[0]\n",
    "args = cts.set_defaults(base_dir_path,{'notebook':True})"
   ]
  },
  {
   "cell_type": "markdown",
   "id": "b8e8e152",
   "metadata": {},
   "source": [
    "# PREPARATION"
   ]
  },
  {
   "cell_type": "markdown",
   "id": "906303b3",
   "metadata": {},
   "source": [
    "All data should be in a folder named assignment_data"
   ]
  },
  {
   "cell_type": "markdown",
   "id": "01509892",
   "metadata": {},
   "source": [
    "    1 - Obtain the required structure from the PDB"
   ]
  },
  {
   "cell_type": "code",
   "execution_count": 10,
   "id": "91f7c4e0",
   "metadata": {},
   "outputs": [],
   "source": [
    "# Loading the protein into a variable\n",
    "f=open(\"./assignment_data/6m0j.pdb\", \"r\")\n",
    "parser = PDBParser()\n",
    "structure = parser.get_structure(\"6m0j\",f)\n",
    "st=structure"
   ]
  },
  {
   "cell_type": "markdown",
   "id": "faf33420",
   "metadata": {},
   "source": [
    "    2 - Check at PDB which is the composition of a “Biological unit”. Remove all chains but those involved in the biological unit, if necessary"
   ]
  },
  {
   "cell_type": "code",
   "execution_count": 11,
   "id": "431364ea",
   "metadata": {},
   "outputs": [],
   "source": [
    "# Preparing the paths\n",
    "base_path = './assignment_data/'\n",
    "args['output_format'] = \"pdb\"\n",
    "args['keep_canonical'] = False\n",
    "args['input_structure_path'] = base_path + '6m0j.cif'\n",
    "args['output_structure_path'] = base_path + '6m0j_fixed.pdb'\n",
    "args['output_structure_path_charges'] = base_path + '6m0j_fixed.pdbqt'\n",
    "args['time_limit'] = False\n",
    "args['nocache'] = False\n",
    "args['copy_input'] = False\n",
    "args['build_warnings'] = False\n",
    "args['debug'] = False\n",
    "args['verbose'] = False\n",
    "args['coords_only'] = False\n",
    "args['overwrite'] = False"
   ]
  },
  {
   "cell_type": "code",
   "execution_count": 12,
   "id": "20fd0c1d",
   "metadata": {},
   "outputs": [
    {
     "name": "stdout",
     "output_type": "stream",
     "text": [
      "Canonical sequence for model 0:\n",
      "Structure ./assignment_data/6m0j.cif loaded\n",
      " PDB id: 6M0J \n",
      " Title: Crystal structure of 2019-nCoV spike receptor-binding domain bound with ACE2\n",
      " Experimental method: X-RAY DIFFRACTION\n",
      " Keywords: VIRAL PROTEIN/HYDROLASE\n",
      " Resolution (A): 2.4500\n",
      "\n",
      " Num. models: 1\n",
      " Num. chains: 2 (A: Protein, E: Protein)\n",
      " Num. residues:  876\n",
      " Num. residues with ins. codes:  0\n",
      " Num. residues with H atoms: 0\n",
      " Num. HETATM residues:  85\n",
      " Num. ligands or modified residues:  5\n",
      " Num. water mol.:  80\n",
      " Num. atoms:  6543\n",
      "Metal/Ion residues found\n",
      " ZN A901\n",
      "Small mol ligands found\n",
      "NAG A902\n",
      "NAG A903\n",
      "NAG A904\n",
      "NAG E601\n"
     ]
    }
   ],
   "source": [
    "# Intializing the checking engine, loading the structure and showing info\n",
    "st_c = StructureChecking(base_dir_path, args)"
   ]
  },
  {
   "cell_type": "markdown",
   "id": "fb98f049",
   "metadata": {},
   "source": [
    "    3 - Remove all heteroatoms\n"
   ]
  },
  {
   "cell_type": "code",
   "execution_count": 13,
   "id": "1095347f",
   "metadata": {},
   "outputs": [
    {
     "name": "stdout",
     "output_type": "stream",
     "text": [
      "Running rem_hydrogen.\n",
      "No residues with Hydrogen atoms found\n",
      "Running water. Options: yes\n",
      "Detected 80 Water molecules\n",
      "Canonical sequence for model 0:\n",
      "Removed 80 Water molecules\n",
      "Running metals. Options: All\n",
      "Found 1 Metal ions\n",
      "  ZN A901.ZN \n",
      "Canonical sequence for model 0:\n",
      "Metal Atoms removed All (1)\n",
      "Running ligands. Options: All\n",
      "Detected 4 Ligands\n",
      " NAG A902\n",
      " NAG A903\n",
      " NAG A904\n",
      " NAG E601\n",
      "Canonical sequence for model 0:\n",
      "Ligands removed All (4)\n"
     ]
    }
   ],
   "source": [
    "#Remove Hydrogen\n",
    "st_c.rem_hydrogen()\n",
    "#Remove water\n",
    "st_c.water(\"yes\")\n",
    "#Remove metals\n",
    "st_c.metals(\"All\")\n",
    "#Remove ligands\n",
    "st_c.ligands(\"All\")"
   ]
  },
  {
   "cell_type": "markdown",
   "id": "a5374e93",
   "metadata": {},
   "source": [
    "    4 - Perform a quality checking on the structures, and add missing side-chains and hydrogen atoms and atom charges, using the biobb_structure_checking module"
   ]
  },
  {
   "cell_type": "code",
   "execution_count": 14,
   "id": "8bf7dc39",
   "metadata": {},
   "outputs": [
    {
     "name": "stdout",
     "output_type": "stream",
     "text": [
      "Running amide. Options: All\n",
      "Found 6 unusual contact(s) involving amide atoms\n",
      " VAL A59.O    ASN A63.OD1     2.784 A\n",
      " ALA A80.O    GLN A101.OE1    2.931 A\n",
      " GLN A81.OE1  ASN A103.OD1    2.859 A\n",
      " ASN A134.ND2 ASN A137.N      2.987 A\n",
      " GLU A150.O   ASN A154.OD1    2.871 A\n",
      " ARG E357.NH1 ASN E394.ND2    2.964 A\n",
      "Amide residues fixed All (7)\n",
      "Rechecking\n",
      "Found 4 unusual contact(s) involving amide atoms\n",
      " GLN A81.NE2  ASN A103.ND2    2.859 A\n",
      " ASN A103.OD1 ASN A194.OD1    2.485 A\n",
      " ARG E357.NH1 ASN E394.ND2    3.058 A\n",
      " ASN E394.OD1 GLU E516.OE2    2.870 A\n",
      "Running chiral. Options: All\n",
      "Found no residues with incorrect side-chain chirality\n",
      "Running backbone. Options: --fix_atoms All --fix_chain none --add_caps none\n",
      "Found 2 Residues with missing backbone atoms\n",
      " ASP A615   OXT\n",
      " GLY E526   OXT\n",
      "No backbone breaks\n",
      "No unexpected backbone links\n",
      "Capping terminal ends\n",
      "True terminal residues: A19,A615,E333,E526\n",
      "No caps added\n",
      "Fixing missing backbone atoms\n",
      "Adding missing backbone atoms\n",
      "ASP A615\n",
      "  Adding new atom OXT\n",
      "GLY E526\n",
      "  Adding new atom OXT\n",
      "Fixed 2 backbone atom(s)\n",
      "Checking for steric clashes\n",
      "No severe clashes detected\n",
      "No apolar clashes detected\n",
      "No polar_acceptor clashes detected\n",
      "No polar_donor clashes detected\n",
      "No positive clashes detected\n",
      "No negative clashes detected\n",
      "Running fixside. Options: All\n",
      "Found no residues with missing or unknown side chain atoms\n",
      "Running add_hydrogen. Options: auto\n",
      "Found 240 Residues requiring selection on adding H atoms\n",
      "WARNING: fixing side chains, override with --no_fix_side\n",
      "Running fixside. Options: --fix all\n",
      "Found no residues with missing or unknown side chain atoms\n",
      "Selection: auto\n",
      "Replacing HIS A34 by HIE\n",
      "Replacing HIS A195 by HIE\n",
      "Replacing HIS A228 by HIE\n",
      "Replacing HIS A239 by HIE\n",
      "Replacing HIS A241 by HIE\n",
      "Replacing HIS A265 by HIE\n",
      "Replacing HIS A345 by HIE\n",
      "Replacing HIS A373 by HIE\n",
      "Replacing HIS A374 by HIE\n",
      "Replacing HIS A378 by HIE\n",
      "Replacing HIS A401 by HIE\n",
      "Replacing HIS A417 by HIE\n",
      "Replacing HIS A493 by HIE\n",
      "Replacing HIS A505 by HIE\n",
      "Replacing HIS A535 by HIE\n",
      "Replacing HIS A540 by HIE\n",
      "Replacing HIS E519 by HIE\n"
     ]
    }
   ],
   "source": [
    "#Fix amides\n",
    "st_c.amide(\"All\")\n",
    "#fix the chirality of some aa\n",
    "st_c.chiral(\"All\") \n",
    "#fix the backbone\n",
    "st_c.backbone('--fix_atoms All --fix_chain none --add_caps none')\n",
    "#detects and rebuilds missing protein side chains\n",
    "st_c.fixside(\"All\")\n",
    "#add hydrogens\n",
    "st_c.add_hydrogen(\"auto\")\n",
    "\n",
    "#you could also do everything with st_c.checkall() but we did it manually so its clearer what we do\n",
    "st_c._save_structure(args['output_structure_path'])\n",
    "\n",
    "f.close()"
   ]
  },
  {
   "cell_type": "markdown",
   "id": "507ab08c",
   "metadata": {},
   "source": [
    "## STEP 1"
   ]
  },
  {
   "cell_type": "code",
   "execution_count": 15,
   "id": "bc33286a",
   "metadata": {},
   "outputs": [
    {
     "ename": "KeyboardInterrupt",
     "evalue": "",
     "output_type": "error",
     "traceback": [
      "\u001b[0;31m---------------------------------------------------------------------------\u001b[0m",
      "\u001b[0;31mKeyboardInterrupt\u001b[0m                         Traceback (most recent call last)",
      "\u001b[1;32m/home/jaume/Desktop/Year_2/Biophysics/Project:Energy_Analysis/Biophysics_A1/biophysics_project.ipynb Cell 15\u001b[0m line \u001b[0;36m<cell line: 32>\u001b[0;34m()\u001b[0m\n\u001b[1;32m     <a href='vscode-notebook-cell:/home/jaume/Desktop/Year_2/Biophysics/Project%3AEnergy_Analysis/Biophysics_A1/biophysics_project.ipynb#X20sZmlsZQ%3D%3D?line=28'>29</a>\u001b[0m     \u001b[39mreturn\u001b[39;00m interface_residues\n\u001b[1;32m     <a href='vscode-notebook-cell:/home/jaume/Desktop/Year_2/Biophysics/Project%3AEnergy_Analysis/Biophysics_A1/biophysics_project.ipynb#X20sZmlsZQ%3D%3D?line=30'>31</a>\u001b[0m dt\u001b[39m=\u001b[39m\u001b[39m5\u001b[39m\n\u001b[0;32m---> <a href='vscode-notebook-cell:/home/jaume/Desktop/Year_2/Biophysics/Project%3AEnergy_Analysis/Biophysics_A1/biophysics_project.ipynb#X20sZmlsZQ%3D%3D?line=31'>32</a>\u001b[0m \u001b[39mprint\u001b[39m(chain_atoms(structure, dt))\n",
      "\u001b[1;32m/home/jaume/Desktop/Year_2/Biophysics/Project:Energy_Analysis/Biophysics_A1/biophysics_project.ipynb Cell 15\u001b[0m line \u001b[0;36mchain_atoms\u001b[0;34m(structure, dt)\u001b[0m\n\u001b[1;32m     <a href='vscode-notebook-cell:/home/jaume/Desktop/Year_2/Biophysics/Project%3AEnergy_Analysis/Biophysics_A1/biophysics_project.ipynb#X20sZmlsZQ%3D%3D?line=14'>15</a>\u001b[0m             \u001b[39mfor\u001b[39;00m atom2 \u001b[39min\u001b[39;00m residual:\n\u001b[1;32m     <a href='vscode-notebook-cell:/home/jaume/Desktop/Year_2/Biophysics/Project%3AEnergy_Analysis/Biophysics_A1/biophysics_project.ipynb#X20sZmlsZQ%3D%3D?line=15'>16</a>\u001b[0m                 chain2_atoms\u001b[39m.\u001b[39mappend(atom2)\n\u001b[0;32m---> <a href='vscode-notebook-cell:/home/jaume/Desktop/Year_2/Biophysics/Project%3AEnergy_Analysis/Biophysics_A1/biophysics_project.ipynb#X20sZmlsZQ%3D%3D?line=16'>17</a>\u001b[0m \u001b[39mreturn\u001b[39;00m chain_comparison(chain1_atoms, chain2_atoms, dt)\n",
      "\u001b[1;32m/home/jaume/Desktop/Year_2/Biophysics/Project:Energy_Analysis/Biophysics_A1/biophysics_project.ipynb Cell 15\u001b[0m line \u001b[0;36mchain_comparison\u001b[0;34m(chain1_atoms, chain2_atoms, dt)\u001b[0m\n\u001b[1;32m     <a href='vscode-notebook-cell:/home/jaume/Desktop/Year_2/Biophysics/Project%3AEnergy_Analysis/Biophysics_A1/biophysics_project.ipynb#X20sZmlsZQ%3D%3D?line=22'>23</a>\u001b[0m \u001b[39mfor\u001b[39;00m a2 \u001b[39min\u001b[39;00m chain2_atoms:\n\u001b[1;32m     <a href='vscode-notebook-cell:/home/jaume/Desktop/Year_2/Biophysics/Project%3AEnergy_Analysis/Biophysics_A1/biophysics_project.ipynb#X20sZmlsZQ%3D%3D?line=23'>24</a>\u001b[0m     \u001b[39mif\u001b[39;00m a1\u001b[39m.\u001b[39mget_parent()\u001b[39m.\u001b[39mid\u001b[39m==\u001b[39ma1\u001b[39m.\u001b[39mget_parent()\u001b[39m.\u001b[39mid \u001b[39mand\u001b[39;00m a2\u001b[39m.\u001b[39mget_parent()\u001b[39m.\u001b[39mid \u001b[39m==\u001b[39m a2\u001b[39m.\u001b[39mget_parent()\u001b[39m.\u001b[39mid:\n\u001b[0;32m---> <a href='vscode-notebook-cell:/home/jaume/Desktop/Year_2/Biophysics/Project%3AEnergy_Analysis/Biophysics_A1/biophysics_project.ipynb#X20sZmlsZQ%3D%3D?line=24'>25</a>\u001b[0m         distance\u001b[39m=\u001b[39ma1\u001b[39m-\u001b[39;49ma2\n\u001b[1;32m     <a href='vscode-notebook-cell:/home/jaume/Desktop/Year_2/Biophysics/Project%3AEnergy_Analysis/Biophysics_A1/biophysics_project.ipynb#X20sZmlsZQ%3D%3D?line=25'>26</a>\u001b[0m     \u001b[39mif\u001b[39;00m distance\u001b[39m<\u001b[39m\u001b[39m=\u001b[39mdt:\u001b[39m#dt is the treshold of the distance\u001b[39;00m\n\u001b[1;32m     <a href='vscode-notebook-cell:/home/jaume/Desktop/Year_2/Biophysics/Project%3AEnergy_Analysis/Biophysics_A1/biophysics_project.ipynb#X20sZmlsZQ%3D%3D?line=26'>27</a>\u001b[0m         interface_residues\u001b[39m.\u001b[39madd(a1\u001b[39m.\u001b[39mget_parent()\u001b[39m.\u001b[39mid[\u001b[39m1\u001b[39m])\n",
      "File \u001b[0;32m~/anaconda3/lib/python3.9/site-packages/Bio/PDB/Atom.py:263\u001b[0m, in \u001b[0;36mAtom.__sub__\u001b[0;34m(self, other)\u001b[0m\n\u001b[1;32m    250\u001b[0m \u001b[39m\"\"\"Calculate distance between two atoms.\u001b[39;00m\n\u001b[1;32m    251\u001b[0m \n\u001b[1;32m    252\u001b[0m \u001b[39m:param other: the other atom\u001b[39;00m\n\u001b[0;32m   (...)\u001b[0m\n\u001b[1;32m    260\u001b[0m \n\u001b[1;32m    261\u001b[0m \u001b[39m\"\"\"\u001b[39;00m\n\u001b[1;32m    262\u001b[0m diff \u001b[39m=\u001b[39m \u001b[39mself\u001b[39m\u001b[39m.\u001b[39mcoord \u001b[39m-\u001b[39m other\u001b[39m.\u001b[39mcoord\n\u001b[0;32m--> 263\u001b[0m \u001b[39mreturn\u001b[39;00m np\u001b[39m.\u001b[39msqrt(np\u001b[39m.\u001b[39;49mdot(diff, diff))\n",
      "File \u001b[0;32m<__array_function__ internals>:5\u001b[0m, in \u001b[0;36mdot\u001b[0;34m(*args, **kwargs)\u001b[0m\n",
      "\u001b[0;31mKeyboardInterrupt\u001b[0m: "
     ]
    }
   ],
   "source": [
    "#Finding out atoms in both chains\n",
    "def chain_atoms(structure, dt):\n",
    "    model =structure[0]\n",
    "    t=0\n",
    "    chain1_atoms=[]\n",
    "    chain2_atoms=[]\n",
    "    for chain in model:\n",
    "        if t==0:\n",
    "            t=1\n",
    "            for residual in chain.get_residues():\n",
    "                for atom1 in residual:\n",
    "                    chain1_atoms.append(atom1)\n",
    "        else:\n",
    "            for residual in chain.get_residues():\n",
    "                for atom2 in residual:\n",
    "                    chain2_atoms.append(atom2)\n",
    "    return chain_comparison(chain1_atoms, chain2_atoms, dt)\n",
    "\n",
    "#comparing atoms of both chains\n",
    "def chain_comparison(chain1_atoms, chain2_atoms, dt):\n",
    "    interface_residues=set()\n",
    "    for a1 in chain1_atoms:\n",
    "        for a2 in chain2_atoms:\n",
    "            if a1.get_parent().id==a1.get_parent().id and a2.get_parent().id == a2.get_parent().id:\n",
    "                distance=a1-a2\n",
    "            if distance<=dt:#dt is the treshold of the distance\n",
    "                interface_residues.add(a1.get_parent().id[1])\n",
    "                interface_residues.add(a2.get_parent().id[1])\n",
    "    return interface_residues\n",
    "\n",
    "dt=5\n",
    "print(chain_atoms(structure, dt))"
   ]
  },
  {
   "cell_type": "markdown",
   "id": "9925bb26",
   "metadata": {},
   "source": [
    "## Step 2"
   ]
  },
  {
   "cell_type": "markdown",
   "id": "455dc348",
   "metadata": {},
   "source": [
    "Step 2 preparation"
   ]
  },
  {
   "cell_type": "code",
   "execution_count": null,
   "id": "3e127627",
   "metadata": {},
   "outputs": [],
   "source": [
    "from modules_classes import *\n",
    "\n",
    "def calc_solvation(st, res):\n",
    "    '''Solvation energy based on ASA'''\n",
    "    solv = 0.\n",
    "    for at in res.get_atoms():\n",
    "        if 'EXP_NACCESS' not in at.xtra:\n",
    "            continue\n",
    "        s = float(at.xtra['EXP_NACCESS'])* at.xtra['vdw'].fsrf\n",
    "        solv += s\n",
    "    return solv\n",
    "\n",
    "\n",
    "def vdw_int(at1, at2, r):\n",
    "    '''Vdw interaction energy between two atoms'''\n",
    "    eps12 = math.sqrt(at1.xtra['vdw'].eps * at2.xtra['vdw'].eps)\n",
    "    sig12_2 = at1.xtra['vdw'].sig * at2.xtra['vdw'].sig\n",
    "    return 4 * eps12 * (sig12_2**6/r**12 - sig12_2**3/r**6)\n",
    "\n",
    "def MH_diel(r):\n",
    "    '''Mehler-Solmajer dielectric'''\n",
    "    return 86.9525 / (1 - 7.7839 * math.exp(-0.3153 * r)) - 8.5525\n",
    "\n",
    "def elec_int(at1, at2, r):\n",
    "    '''Electrostatic interaction energy between two atoms at r distance'''\n",
    "    return 332.16 * at1.xtra['charge'] * at2.xtra['charge'] / MH_diel(r) / r\n",
    "\n",
    "def calc_int_energies(st, res):\n",
    "    elec = 0.\n",
    "    vdw = 0.\n",
    "    for at1 in res.get_atoms():\n",
    "        for at2 in st.get_atoms():\n",
    "        # skip same chain atom pairs\n",
    "            if at2.get_parent().get_parent() != res.get_parent():\n",
    "                r = at1 - at2\n",
    "                e = elec_int(at1, at2, r)\n",
    "                elec += e\n",
    "                e = vdw_int(at1, at2, r)\n",
    "                vdw += e\n",
    "    return elec, vdw\n",
    "\n",
    "def add_atom_parameters(st, res_lib, ff_params):\n",
    "    ''' Adds parameters from libraries to atom .xtra field\n",
    "        For not recognized atoms, issues a warning and put default parameters\n",
    "    '''\n",
    "    for at in st.get_atoms():\n",
    "        resname = at.get_parent().get_resname()\n",
    "        params = res_lib.get_params(resname, at.id)\n",
    "        if not params:\n",
    "            #print(\"WARNING: residue/atom pair not in library (\"+atom_id(at) + ')')\n",
    "            at.xtra['atom_type'] = at.element\n",
    "            at.xtra['charge'] = 0\n",
    "        else:\n",
    "            at.xtra['atom_type'] = params.at_type\n",
    "            at.xtra['charge'] = params.charge\n",
    "        at.xtra['vdw'] = ff_params.at_types[at.xtra['atom_type']]"
   ]
  },
  {
   "cell_type": "markdown",
   "id": "b78a4491",
   "metadata": {},
   "source": [
    "Step 2 execution"
   ]
  },
  {
   "cell_type": "code",
   "execution_count": null,
   "id": "dd69502e",
   "metadata": {},
   "outputs": [],
   "source": [
    "\n",
    "wd=str(input(\"Input working directory: \"))\n",
    "residue_library = ResiduesDataLib(wd+'/assignment_data/parameters_step2.lib')\n",
    "ff_params = VdwParamset(wd+'/assignment_data/parameters_vanderw.txt')\n",
    "NACCESS_BINARY =wd+'/soft/NACCESS/naccess'\n",
    "\n",
    "add_atom_parameters(st, residue_library,ff_params)\n",
    "def chain_atoms2(structure, dt):\n",
    "    model =structure[0]\n",
    "    t=0\n",
    "    chain1_atoms=set()\n",
    "    chain2_atoms=set()\n",
    "    for chain in model:\n",
    "        if t==0:\n",
    "            t=1\n",
    "            chain1=chain\n",
    "        else: chain2=chain\n",
    "    NeighborSearch_chain2 = NeighborSearch(list(chain2.get_atoms()))\n",
    "    for residual1 in chain1.get_residues():\n",
    "        for atom1 in residual1:\n",
    "            Neighbor_atom_chain2 = NeighborSearch_chain2.search(atom1.coord, dt)\n",
    "            for atom2 in Neighbor_atom_chain2:\n",
    "                residual2=atom2.get_parent()\n",
    "                chain1_atoms.add(residual1)\n",
    "                chain2_atoms.add(residual2) \n",
    "    return calc(chain1_atoms, chain2_atoms)\n",
    "\n",
    "def calc(chain1_atoms, chain2_atoms):\n",
    "    s=sA=sE=e=v=0\n",
    "    for res in chain1_atoms:\n",
    "        s += calc_solvation(st[0], res)\n",
    "        sA += calc_solvation(st[0]['A'], res)\n",
    "        E, V = calc_int_energies(st, res)\n",
    "        e+=E\n",
    "        v+=V\n",
    "    for res in chain2_atoms:\n",
    "        s += calc_solvation(st[0], res)\n",
    "        sE += calc_solvation(st[0]['E'], res)\n",
    "        E, V = calc_int_energies(st, res)\n",
    "        e+=E\n",
    "        v+=V\n",
    "    G = e + v + s - sA - sE\n",
    "    print(\"Electrostatic interactions:\", e)\n",
    "    print(\"Van der Waals interactions\", v)\n",
    "    print(\"Solvation A-B complex:\", s)\n",
    "    print(\"Solvation of A:\", sA)\n",
    "    print(\"Solvation of B\", sE)\n",
    "    return(\"Interaction energy between components in A-B complex:\",G)\n",
    "\n",
    "print(chain_atoms2(structure, dt))"
   ]
  },
  {
   "cell_type": "markdown",
   "metadata": {},
   "source": [
    "## Step 3"
   ]
  },
  {
   "cell_type": "markdown",
   "metadata": {},
   "source": [
    "Preparing our libraries"
   ]
  },
  {
   "cell_type": "code",
   "execution_count": 16,
   "metadata": {},
   "outputs": [],
   "source": [
    "# Loading Libraries\n",
    "# loading residue library from data/aaLib.lib\n",
    "from modules_classes import ResiduesDataLib\n",
    "from modules_classes import VdwParamset\n",
    "import step2m2_energies as en\n",
    "from Bio.PDB.NACCESS import NACCESS_atomic\n",
    "import os\n",
    "\n",
    "dir = os.getcwd() # Getting current directory\n",
    "\n",
    "residue_library = ResiduesDataLib(dir+'/assignment_data/parameters_step2.lib')\n",
    "\n",
    "# loading VdW parameters\n",
    "ff_params = VdwParamset(dir+'/assignment_data/parameters_vanderw.txt')"
   ]
  },
  {
   "cell_type": "markdown",
   "metadata": {},
   "source": [
    "Defining some important variables"
   ]
  },
  {
   "cell_type": "code",
   "execution_count": 17,
   "metadata": {},
   "outputs": [],
   "source": [
    "pdb_file = dir+'/assignment_data/6m0j_fixed.pdb'\n",
    "cutoff_dist = 5.0 # Setting the distance, in our case we used a distance of 5.0 amstrong\n",
    "NACCESS_BINARY = dir+'/soft/NACCESS/naccess'"
   ]
  },
  {
   "cell_type": "markdown",
   "metadata": {},
   "source": [
    "Loading the structure from the pdb file and preparing our data"
   ]
  },
  {
   "cell_type": "code",
   "execution_count": 18,
   "metadata": {},
   "outputs": [
    {
     "name": "stdout",
     "output_type": "stream",
     "text": [
      "Parsing /home/jaume/Desktop/Year_2/Biophysics/Project:Energy_Analysis/Biophysics_A1/assignment_data/6m0j_fixed.pdb\n",
      "WARNING: atom not found in library ( GLY:OXT )\n"
     ]
    }
   ],
   "source": [
    "parser = PDBParser(PERMISSIVE=1)\n",
    "print('Parsing', pdb_file)\n",
    "\n",
    "# load structure from PDB file of PDB ifle handler\n",
    "st = parser.get_structure('STR', pdb_file)\n",
    "\n",
    "# assign data types, and charges from libraries\n",
    "# We will use the xtra attribute in Bio.PDB.Atom to hold the new data\n",
    "# Possible errors on N-term and C-Term atoms\n",
    "# Possible errors on HIS alternative forms\n",
    "\n",
    "en.add_atom_parameters(st, residue_library, ff_params)"
   ]
  },
  {
   "cell_type": "markdown",
   "metadata": {},
   "source": [
    "SURFACES"
   ]
  },
  {
   "cell_type": "code",
   "execution_count": 19,
   "metadata": {},
   "outputs": [
    {
     "name": "stdout",
     "output_type": "stream",
     "text": [
      "WARNING: atom not found in library ( GLY:OXT )\n"
     ]
    }
   ],
   "source": [
    "# Calculating surfaces\n",
    "# The specific PATH to naccess script (in soft) is needed\n",
    "# ASA goes to .xtra field directly\n",
    "\n",
    "srf = NACCESS_atomic(st[0], naccess_binary=NACCESS_BINARY)\n",
    "\n",
    "# Prepare surfaces for the separate chains\n",
    "# Alternatively the twp PDB files can be prepared outside and parsed here\n",
    "\n",
    "io = PDBIO()\n",
    "st_chains = {}\n",
    "# Using BioIO trick (see tutorial) to select chains\n",
    "class SelectChain(Select):\n",
    "\tdef __init__(self, chid):\n",
    "\t\tself.id = chid\n",
    "\n",
    "\tdef accept_chain(self, chain):\n",
    "\t\tif chain.id == self.id:\n",
    "\t\t\treturn 1\n",
    "\t\telse:\n",
    "\t\t\treturn 0\n",
    "\n",
    "for ch in st[0]:\n",
    "\tio.set_structure(st)\n",
    "\tio.save('tmp.pdb', SelectChain(ch.id))\n",
    "\tst_chains[ch.id] = parser.get_structure('stA', 'tmp.pdb')\n",
    "\ten.add_atom_parameters(st_chains[ch.id], residue_library, ff_params)\n",
    "\tsrfA = NACCESS_atomic(st_chains[ch.id][0], naccess_binary=NACCESS_BINARY)\n",
    "os.remove('tmp.pdb')"
   ]
  },
  {
   "cell_type": "markdown",
   "metadata": {},
   "source": [
    "INTERFACE RESIDUES"
   ]
  },
  {
   "cell_type": "code",
   "execution_count": 20,
   "metadata": {},
   "outputs": [],
   "source": [
    "## Interface residues\n",
    "if cutoff_dist > 0.: # Applying the cutoff\n",
    "\tinterface = en.get_interface(st, cutoff_dist)\n",
    "\n",
    "## Initiatlize Energy aggregates\n",
    "elec = {}\n",
    "elec_ala = {}\n",
    "\n",
    "vdw = {}\n",
    "vdw_ala = {}\n",
    "\n",
    "solvAB = {}\n",
    "solvAB_ala = {}\n",
    "\n",
    "solvA = {}\n",
    "solvA_ala = {}\n",
    "\n",
    "totalIntElec = 0.\n",
    "totalIntVdw = 0.\n",
    "totalSolv = 0.\n",
    "totalSolvMon = {}\n",
    "\n",
    "## We get the chsin ids,not always they are A and B\n",
    "chids = []\n",
    "for ch in st[0]:\n",
    "\tchids.append(ch.id)\n",
    "\ttotalSolvMon[ch.id] = 0\n",
    "\n",
    "total = 0."
   ]
  },
  {
   "cell_type": "markdown",
   "metadata": {},
   "source": [
    "Creation of a file and getting the output for the different energy types and their associated residue for the INTERACTION ENERGY BASED ON INTERFACE RESIDUES"
   ]
  },
  {
   "cell_type": "code",
   "execution_count": 21,
   "metadata": {},
   "outputs": [
    {
     "name": "stdout",
     "output_type": "stream",
     "text": [
      "------------------------------------------------------------------------------------------------------------------\n",
      "\n",
      "Interaction energy based in interface residues ONLY\n",
      "D#res_id       elec_res    vdw_res     solv_AB_res solv_A_res  | elec_ala    vdw_ala     solv_AB_ala solv_A_ala \n",
      "D#SER A19           3.6318     -0.9238     -3.4036     -4.4436 |      2.4167     -0.8400     -2.1335     -3.1735\n",
      "D#GLN A24           0.3767     -1.7267     -1.8006     -2.4184 |     -0.1379     -2.2663      0.0075      0.1122\n",
      "D#THR A27          -0.0266     -6.4291     -0.7248      0.3872 |      1.2623     -3.2416      0.0444      0.1200\n",
      "D#PHE A28          -0.0999     -3.3071      0.5986      1.6252 |     -0.0112     -1.9429     -0.0005      0.0182\n",
      "D#ASP A30          -2.7963     -1.5358     -1.8000     -3.3357 |     -0.8539      0.9669     -0.0448      0.0908\n",
      "D#LYS A31           4.9173     -8.2069     -2.2030     -1.5507 |      0.1407     -3.1928      0.0038      0.2487\n",
      "D#HIE A34          -0.0567     -2.5958     -1.8016     -2.7625 |      0.1350     -2.0718     -0.1024      0.2772\n",
      "D#GLU A35          -3.9023     -0.9008     -1.8210     -2.8108 |     -0.4196     -0.7045      0.0124     -0.0230\n",
      "D#GLU A37          -4.5615     -2.6018     -0.8279     -1.4683 |     -0.4267     -0.5031      0.0775      0.0775\n",
      "D#ASP A38          -3.3145     -2.5945     -0.6635     -2.3447 |     -0.8360     -1.0974      0.2275      0.2275\n",
      "D#TYR A41          -0.1969     -5.8972      0.0000      1.5778 |      0.1175     -0.6276      0.0000      0.0000\n",
      "D#GLN A42           0.2662     -2.8827     -1.2924     -6.1210 |      0.0139     -0.5063      0.1565      0.1565\n",
      "D#LEU A45           0.0514     -1.9649      0.4812      0.9568 |     -0.3141     -0.3286      0.0229      0.0229\n",
      "D#LEU A79           0.0426     -2.1463      0.6936      1.1452 |     -0.2538     -0.8501      0.0000     -0.0060\n",
      "D#MET A82           0.0081     -1.4779      1.2067      1.6147 |      0.1289      0.0026     -0.2765     -0.2695\n",
      "D#TYR A83          -0.2630     -3.7501      0.2354      0.4332 |      0.0602     -0.3334     -0.0091     -0.0091\n",
      "D#ASN A330          0.0794     -2.1726     -0.8447     -3.2533 |     -0.1332     -0.4241     -0.0466     -0.0466\n",
      "D#LYS A353          5.0168    -10.8107     -0.9065     -2.1240 |      1.1792     -4.8880     -0.2296     -0.4307\n",
      "D#GLY A354          2.5568     -3.4890     -0.3888     -1.1251 |      2.5568     -3.4890     -0.3888     -1.1251\n",
      "D#ASP A355         -4.0799     -4.2521      0.0160      0.1359 |     -0.6167     -2.3747      0.0522      0.2039\n",
      "D#ARG A357          3.8291     -1.4922     -0.5031     -1.2717 |      0.0937     -0.0703      0.0000      0.0000\n",
      "D#ARG A393          4.2407     -0.7127     -1.3097     -1.9761 |      0.1090     -0.0305     -0.3015     -0.3015\n",
      "D#LYS E417          4.3304     -2.0316     -0.6818     -1.6563 |      0.1365     -0.1819     -0.2513     -0.2513\n",
      "D#VAL E445         -0.0673     -0.8501      1.4835      1.3114 |      0.3565     -0.5617     -0.4007     -0.6195\n",
      "D#GLY E446          2.1444     -1.0214     -0.5570     -0.8702 |      2.1444     -1.0214     -0.5570     -0.8702\n",
      "D#GLY E447          2.1237     -0.5682     -0.1629     -0.1629 |      2.1237     -0.5682     -0.1629     -0.1629\n",
      "D#TYR E449          0.7915     -1.6169      5.3977      5.4305 |      0.0407     -0.1484     -0.1937     -0.1937\n",
      "D#TYR E453         -0.0029      2.2425      0.6079     -0.0878 |      0.0220     -0.1200      0.0000      0.0000\n",
      "D#LEU E455         -0.0940     -5.9785      0.0000      0.7978 |     -0.3859     -0.8490      0.0000      0.0000\n",
      "D#PHE E456          0.0500     -2.5500      0.7596      5.9044 |      0.0201     -0.4205      0.0020      0.0020\n",
      "D#TYR E473         -0.0269     -1.2325     -0.0890      0.6358 |      0.0206     -0.2156      0.0611      0.0611\n",
      "D#ALA E475          0.2987     -2.8421     -0.1894     -0.5997 |      0.2987     -2.8421     -0.1894     -0.5997\n",
      "D#GLY E476          1.5222     -1.5278     -0.1834      0.0109 |      1.5222     -1.5278     -0.1834      0.0109\n",
      "D#GLU E484         -1.8500     -0.7157     -3.7303     -4.6482 |     -0.2302     -0.1823     -0.8705     -0.8705\n",
      "D#PHE E486          0.1236     -7.1357      3.5445     13.0140 |      0.0838     -1.4388     -0.9587     -0.9424\n",
      "D#ASN E487          0.1471     -0.0849     -0.7455     -3.8755 |     -0.0723     -1.5283     -0.1211     -0.1871\n",
      "D#TYR E489         -0.2085     -8.5529      1.8179      5.2415 |     -0.0198     -0.8666      0.0000      0.0870\n",
      "D#GLN E493          0.7187     -2.7396     -2.3992     -6.7362 |      0.0835     -0.7700      0.0148      0.0148\n",
      "D#GLY E496          1.9961     -2.2192     -0.6179     -1.5177 |      1.9961     -2.2192     -0.6179     -1.5177\n",
      "D#GLN E498          0.2629     -6.3809      0.0177     -3.8451 |     -0.0214     -1.6999      0.0110      0.0381\n",
      "D#THR E500         -0.1518     -6.7583      0.5307     -0.0240 |      1.0248     -5.6889      0.0084     -0.3370\n",
      "D#ASN E501         -0.0860     -8.0521     -0.1545     -0.8729 |     -0.0129     -4.6110     -0.1328      0.0068\n",
      "D#GLY E502          2.2532     -1.8810      0.2280     -0.9007 |      2.2532     -1.8810      0.2280     -0.9007\n",
      "D#TYR E505         -0.0190     -9.6222      1.6338      7.2668 |      0.0743     -2.0481     -0.0345     -0.0139\n",
      "\n",
      "------------------------------------------------------------------------------------------------------------------\n"
     ]
    }
   ],
   "source": [
    "print('------------------------------------------------------------------------------------------------------------------')\n",
    "print(f'\\nInteraction energy based in interface residues ONLY')\n",
    "\n",
    "# Opening/creating the file in writting mode\n",
    "with open(\"inter_en_res.csv\", \"w\") as file:\n",
    "\n",
    "\t# Header with format (as output in the terminal & write in tha file):\n",
    "\tprint(\n",
    "\t\t'D#{:11}  {:11s} {:11s} {:11s} {:11s} | {:11s} {:11s} {:11s} {:11s}'.format(\n",
    "\t\t\t'res_id',\n",
    "\t\t\t'elec_res', 'vdw_res', 'solv_AB_res', 'solv_A_res',\n",
    "\t\t\t'elec_ala', 'vdw_ala', 'solv_AB_ala', 'solv_A_ala'))\n",
    "\n",
    "\tfile.write(\n",
    "\t\t'D#{:11},{:11s},{:11s},{:11s},{:11s}, - ,{:11s},{:11s},{:11s},{:11s}\\n'.format(\n",
    "\t\t\t'res_id',\n",
    "\t\t\t'elec_res', 'vdw_res', 'solv_AB_res', 'solv_A_res',\n",
    "\t\t\t'elec_ala', 'vdw_ala', 'solv_AB_ala', 'solv_A_ala'))\n",
    "\n",
    "\t# Iteration through the chain\n",
    "\tfor ch in st[0]:\n",
    "\n",
    "\t\t# Getting residues and iterating through them\n",
    "\t\tfor res in ch.get_residues():\n",
    "\n",
    "\t\t\t# Applying the cut distance filter so that the distance is consistent (not 0)\n",
    "\t\t\tif cutoff_dist > 0 and res not in interface[ch.id]:\n",
    "\t\t\t\tcontinue\n",
    "\n",
    "\t\t\t# Calculation of energies and assigning them to a variable using the following functions\n",
    "\t\t\telec[res], elec_ala[res], vdw[res], vdw_ala[res] = en.calc_int_energies(st[0], res)\n",
    "\t\t\tsolvAB[res], solvAB_ala[res] = en.calc_solvation(st[0], res)\n",
    "\t\t\tsolvA[res], solvA_ala[res] = en.calc_solvation(\n",
    "\t\t\t\tst_chains[ch.id],\n",
    "\t\t\t\tst_chains[ch.id][0][ch.id][res.id[1]]\n",
    "\t\t\t)\n",
    "\n",
    "\t\t\t# Calculation of total energies\n",
    "\t\t\ttotalIntElec += elec[res]\n",
    "\t\t\ttotalIntVdw += vdw[res]\n",
    "\t\t\ttotalSolv += solvAB[res]\n",
    "\t\t\ttotalSolvMon[ch.id] += solvA[res]\n",
    "\t\t\ttotal += elec[res] + vdw[res] + solvAB[res] - solvA[res]\n",
    "\n",
    "\t\t\t# Main body of all the info for each residue with it's csv format (as output in the terminal & write in tha file)\n",
    "\t\t\tprint(\n",
    "\t\t\t\t'D#{:11}  {:11.4f} {:11.4f} {:11.4f} {:11.4f} | {:11.4f} {:11.4f} {:11.4f} {:11.4f}'.format(\n",
    "\t\t\t\t\ten.residue_id(res),\n",
    "\t\t\t\t\telec[res], vdw[res], solvAB[res], solvA[res],\n",
    "\t\t\t\t\telec_ala[res], vdw_ala[res], solvAB_ala[res], solvA_ala[res]))\n",
    "\t\t\t\n",
    "\t\t\tfile.write(\n",
    "\t\t\t\t'D#{:11},{:11.4f},{:11.4f},{:11.4f},{:11.4f}, | ,{:11.4f},{:11.4f},{:11.4f},{:11.4f}\\n'.format(\n",
    "\t\t\t\t\ten.residue_id(res),\n",
    "\t\t\t\t\telec[res], vdw[res], solvAB[res], solvA[res],\n",
    "\t\t\t\t\telec_ala[res], vdw_ala[res], solvAB_ala[res], solvA_ala[res]))\n",
    "\n",
    "print('\\n------------------------------------------------------------------------------------------------------------------')\n"
   ]
  },
  {
   "cell_type": "markdown",
   "metadata": {},
   "source": [
    "Printing a summary:"
   ]
  },
  {
   "cell_type": "code",
   "execution_count": 22,
   "metadata": {},
   "outputs": [
    {
     "name": "stdout",
     "output_type": "stream",
     "text": [
      "-----------------------------------------------------------------------\n",
      "\n",
      "TOTAL ENERGIES of interaction energy based in interface residues ONLY\n",
      "Total Elec Int.     :     19.9753\n",
      "Total Vdw Int.      :   -143.9898\n",
      "Total Solv AB       :    -10.5493\n",
      "Total Solv         A:    -29.1297\n",
      "Total Solv         E:     13.8159\n",
      "DGintAB-A-B         :   -119.2500\n",
      "\n",
      "Writting done in file: inter_en_res.csv\n",
      "\n",
      "-----------------------------------------------------------------------\n"
     ]
    }
   ],
   "source": [
    "print('-----------------------------------------------------------------------')\n",
    "print(f'\\nTOTAL ENERGIES of interaction energy based in interface residues ONLY')\n",
    "print('{:20}: {:11.4f}'.format('Total Elec Int.', totalIntElec))\n",
    "print('{:20}: {:11.4f}'.format('Total Vdw Int.', totalIntVdw))\n",
    "print('{:20}: {:11.4f}'.format('Total Solv AB', totalSolv))\n",
    "print('{:19}{}: {:11.4f}'.format('Total Solv ', chids[0], totalSolvMon[chids[0]]))\n",
    "print('{:19}{}: {:11.4f}'.format('Total Solv ', chids[1], totalSolvMon[chids[1]]))\n",
    "print('{:20}: {:11.4f}'.format('DGintAB-A-B', total))\n",
    "print('\\nWritting done in file: inter_en_res.csv\\n')\n",
    "print('-----------------------------------------------------------------------')"
   ]
  },
  {
   "cell_type": "markdown",
   "metadata": {},
   "source": [
    "Alanine scaning for DDGs X->Ala mutations on the interface residues"
   ]
  },
  {
   "cell_type": "code",
   "execution_count": 23,
   "metadata": {},
   "outputs": [
    {
     "name": "stdout",
     "output_type": "stream",
     "text": [
      "-------------------------------------------------------------------------\n",
      "\n",
      "Ala Scanning: DDGs for X->Ala mutations on interface residues\n",
      "res_id       elec        vdw         solvAB      solv        total      \n",
      "SER A19          -1.2151      0.0838      1.2701      1.2701      1.4090\n",
      "GLN A24          -0.5145     -0.5396      1.8081      2.5306      3.2846\n",
      "THR A27           1.2889      3.1875      0.7692     -0.2673      4.9784\n",
      "PHE A28           0.0887      1.3642     -0.5991     -1.6069     -0.7530\n",
      "ASP A30           1.9425      2.5027      1.7551      3.4265      9.6268\n",
      "LYS A31          -4.7766      5.0141      2.2068      1.7994      4.2437\n",
      "HIE A34           0.1917      0.5240      1.6992      3.0397      5.4545\n",
      "GLU A35           3.4826      0.1963      1.8335      2.7878      8.3002\n",
      "GLU A37           4.1348      2.0987      0.9054      1.5457      8.6846\n",
      "ASP A38           2.4785      1.4971      0.8910      2.5722      7.4389\n",
      "TYR A41           0.3144      5.2696      0.0000     -1.5778      4.0062\n",
      "GLN A42          -0.2523      2.3764      1.4489      6.2775      9.8505\n",
      "LEU A45          -0.3655      1.6363     -0.4583     -0.9339     -0.1215\n",
      "LEU A79          -0.2964      1.2962     -0.6936     -1.1512     -0.8450\n",
      "MET A82           0.1209      1.4806     -1.4832     -1.8842     -1.7660\n",
      "TYR A83           0.3232      3.4167     -0.2445     -0.4423      3.0531\n",
      "ASN A330         -0.2126      1.7485      0.7981      3.2067      5.5407\n",
      "LYS A353         -3.8376      5.9227      0.6768      1.6933      4.4553\n",
      "GLY A354          0.0000      0.0000      0.0000      0.0000      0.0000\n",
      "ASP A355          3.4632      1.8774      0.0362      0.0680      5.4448\n",
      "ARG A357         -3.7353      1.4219      0.5031      1.2717     -0.5387\n",
      "ARG A393         -4.1316      0.6821      1.0082      1.6746     -0.7667\n",
      "LYS E417         -4.1939      1.8497      0.4305      1.4050     -0.5087\n",
      "VAL E445          0.4238      0.2884     -1.8842     -1.9309     -3.1029\n",
      "GLY E446          0.0000      0.0000      0.0000      0.0000      0.0000\n",
      "GLY E447          0.0000      0.0000      0.0000      0.0000      0.0000\n",
      "TYR E449         -0.7508      1.4685     -5.5914     -5.6242    -10.4980\n",
      "TYR E453          0.0250     -2.3625     -0.6079      0.0878     -2.8576\n",
      "LEU E455         -0.2919      5.1295      0.0000     -0.7978      4.0398\n",
      "PHE E456         -0.0299      2.1295     -0.7577     -5.9024     -4.5606\n",
      "TYR E473          0.0475      1.0169      0.1501     -0.5746      0.6398\n",
      "ALA E475          0.0000      0.0000      0.0000      0.0000      0.0000\n",
      "GLY E476          0.0000      0.0000      0.0000      0.0000      0.0000\n",
      "GLU E484          1.6198      0.5334      2.8598      3.7777      8.7908\n",
      "PHE E486         -0.0398      5.6970     -4.5032    -13.9565    -12.8025\n",
      "ASN E487         -0.2194     -1.4434      0.6243      3.6884      2.6499\n",
      "TYR E489          0.1887      7.6863     -1.8179     -5.1545      0.9026\n",
      "GLN E493         -0.6353      1.9696      2.4140      6.7510     10.4992\n",
      "GLY E496          0.0000      0.0000      0.0000      0.0000      0.0000\n",
      "GLN E498         -0.2844      4.6811     -0.0067      3.8832      8.2732\n",
      "THR E500          1.1766      1.0694     -0.5223     -0.3131      1.4107\n",
      "ASN E501          0.0731      3.4411      0.0217      0.8798      4.4156\n",
      "GLY E502          0.0000      0.0000      0.0000      0.0000      0.0000\n",
      "TYR E505          0.0933      7.5741     -1.6683     -7.2807     -1.2815\n",
      "Writing  done in file: ala_scaning.csv\n",
      "\n",
      "-------------------------------------------------------------------------\n"
     ]
    }
   ],
   "source": [
    "print('-------------------------------------------------------------------------')\n",
    "print(f'\\nAla Scanning: DDGs for X->Ala mutations on interface residues')\n",
    "\n",
    "# # Opening/creating the file in writting mode\n",
    "with open(\"ala_scaning.csv\", \"w\") as file:\n",
    "\n",
    "\t# Header with format (as output in the terminal & write in tha file):\n",
    "\tfile.write(\n",
    "\t\t'{:11},{:11s},{:11s},{:11s},{:11s},{:11s}\\n'.format(\n",
    "\t\t'res_id',\n",
    "\t\t'elec',\n",
    "\t\t'vdw',\n",
    "\t\t'solvAB',\n",
    "\t\t'solv',\n",
    "\t\t'total'))\n",
    "\n",
    "\tprint(\n",
    "\t\t'{:11}  {:11s} {:11s} {:11s} {:11s} {:11s}'.format(\n",
    "\t\t\t'res_id',\n",
    "\t\t\t'elec',\n",
    "\t\t\t'vdw',\n",
    "\t\t\t'solvAB',\n",
    "\t\t\t'solv',\n",
    "\t\t\t'total'))\n",
    "\n",
    "\t# Iteration through the chain\n",
    "\tfor ch in st[0]:\n",
    "\n",
    "\t\t# Iteration through all the residuals\n",
    "\t\tfor res in ch.get_residues():\n",
    "\n",
    "\t\t\t# Making sure the distance is not 0 (deesn't make sense)\n",
    "\t\t\tif cutoff_dist > 0 and res not in interface[ch.id]:\n",
    "\t\t\t\tcontinue\n",
    "\n",
    "\t\t\tprint(\n",
    "\t\t\t\t'{:11}  {:11.4f} {:11.4f} {:11.4f} {:11.4f} {:11.4f}'.format(\n",
    "\t\t\t\t\ten.residue_id(res),\n",
    "\t\t\t\t\t- elec[res] + elec_ala[res],\n",
    "\t\t\t\t\t- vdw[res] + vdw_ala[res],\n",
    "\t\t\t\t\t- solvAB[res] + solvAB_ala[res],\n",
    "\t\t\t\t\t- solvA[res] + solvA_ala[res],\n",
    "\t\t\t\t\t- elec[res] + elec_ala[res] - vdw[res] + vdw_ala[res] -solvAB[res] +\\\n",
    "\t\t\t\t\tsolvAB_ala[res] -solvA[res] + solvA_ala[res]))\n",
    "\t\t\t\n",
    "\t\t\t# Main body of all the info for each residue with it's csv format (as output in the terminal & write in tha file)\n",
    "\t\t\tfile.write(\n",
    "\t\t\t\t'{:11},{:11.4f},{:11.4f},{:11.4f},{:11.4f},{:11.4f}\\n'.format(\n",
    "\t\t\t\t\ten.residue_id(res),\n",
    "\t\t\t\t\t- elec[res] + elec_ala[res],\n",
    "\t\t   \t\t - vdw[res] + vdw_ala[res],\n",
    "\t\t  \t\t  - solvAB[res] + solvAB_ala[res],\n",
    "\t\t  \t\t  - solvA[res] + solvA_ala[res],\n",
    "\t\t  \t\t  - elec[res] + elec_ala[res] - vdw[res] + vdw_ala[res] -solvAB[res] +\\\n",
    "\t\t  \t\t\t  solvAB_ala[res] -solvA[res] + solvA_ala[res]))\n",
    "\n",
    "print('Writing  done in file: ala_scaning.csv')\n",
    "print('\\n-------------------------------------------------------------------------')"
   ]
  }
 ],
 "metadata": {
  "kernelspec": {
   "display_name": "Python 3 (ipykernel)",
   "language": "python",
   "name": "python3"
  },
  "language_info": {
   "codemirror_mode": {
    "name": "ipython",
    "version": 3
   },
   "file_extension": ".py",
   "mimetype": "text/x-python",
   "name": "python",
   "nbconvert_exporter": "python",
   "pygments_lexer": "ipython3",
   "version": "3.9.12"
  }
 },
 "nbformat": 4,
 "nbformat_minor": 5
}
