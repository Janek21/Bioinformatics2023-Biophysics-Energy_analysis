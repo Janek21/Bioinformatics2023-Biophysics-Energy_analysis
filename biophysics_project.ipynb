{
 "cells": [
  {
   "cell_type": "markdown",
   "id": "013587cf",
   "metadata": {},
   "source": [
    "# INITIALIZATION"
   ]
  },
  {
   "cell_type": "code",
   "execution_count": 2,
   "id": "c261f3fe",
   "metadata": {},
   "outputs": [],
   "source": [
    "# Loading some modules\n",
    "%load_ext autoreload\n",
    "%autoreload 2\n",
    "\n",
    "# Getting basic libraries:\n",
    "import os, sys, math\n",
    "import numpy as np\n",
    "from Bio.PDB import *\n",
    "\n",
    "# Libraries for structure checking: --> \n",
    "import biobb_structure_checking\n",
    "import biobb_structure_checking.constants as cts\n",
    "from biobb_structure_checking.structure_checking import StructureChecking\n",
    "base_dir_path=biobb_structure_checking.__path__[0]\n",
    "args = cts.set_defaults(base_dir_path,{'notebook':True})"
   ]
  },
  {
   "cell_type": "markdown",
   "id": "b8e8e152",
   "metadata": {},
   "source": [
    "# PREPARATION"
   ]
  },
  {
   "cell_type": "markdown",
   "metadata": {},
   "source": [
    "    1 - Obtain the required structure from the PDB"
   ]
  },
  {
   "cell_type": "code",
   "execution_count": 3,
   "id": "91f7c4e0",
   "metadata": {},
   "outputs": [
    {
     "name": "stderr",
     "output_type": "stream",
     "text": [
      "/home/jaume/anaconda3/lib/python3.9/site-packages/Bio/PDB/StructureBuilder.py:89: PDBConstructionWarning: WARNING: Chain A is discontinuous at line 6961.\n",
      "  warnings.warn(\n",
      "/home/jaume/anaconda3/lib/python3.9/site-packages/Bio/PDB/StructureBuilder.py:89: PDBConstructionWarning: WARNING: Chain E is discontinuous at line 7019.\n",
      "  warnings.warn(\n",
      "/home/jaume/anaconda3/lib/python3.9/site-packages/Bio/PDB/StructureBuilder.py:89: PDBConstructionWarning: WARNING: Chain A is discontinuous at line 7033.\n",
      "  warnings.warn(\n",
      "/home/jaume/anaconda3/lib/python3.9/site-packages/Bio/PDB/StructureBuilder.py:89: PDBConstructionWarning: WARNING: Chain E is discontinuous at line 7104.\n",
      "  warnings.warn(\n"
     ]
    }
   ],
   "source": [
    "# Loading the protein into a variable\n",
    "parser = PDBParser()\n",
    "structure = parser.get_structure(\"6m0j\",\"./assignment_data/6m0j.pdb\")"
   ]
  },
  {
   "cell_type": "markdown",
   "metadata": {},
   "source": [
    "    2 - Determine the contribution to the stability of the complex by mimicking a traditional Ala-scanning experiment, i.e. replacing each residue in turn by Ala and evaluating the changes in the complex interaction energy"
   ]
  },
  {
   "cell_type": "code",
   "execution_count": 7,
   "id": "431364ea",
   "metadata": {},
   "outputs": [],
   "source": [
    "# Preparing the paths\n",
    "base_path = './assignment_data/6m0j.pdb'\n",
    "args['input_structure_path'] = base_path + '6m0j.cif'\n",
    "args['output_structure_path'] = base_path + '6m0j_fixed.pdb'\n",
    "args['output_structure_path_charges'] = base_path + '6m0j_fixed.pdbqt'\n",
    "args['debug'] = False\n",
    "args['verbose'] = False"
   ]
  },
  {
   "cell_type": "code",
   "execution_count": 8,
   "metadata": {},
   "outputs": [
    {
     "ename": "KeyError",
     "evalue": "'time_limit'",
     "output_type": "error",
     "traceback": [
      "\u001b[0;31m---------------------------------------------------------------------------\u001b[0m",
      "\u001b[0;31mKeyError\u001b[0m                                  Traceback (most recent call last)",
      "\u001b[1;32m/home/jaume/Desktop/Year_2/Biophysics/Project: Energy_Analysis/Biophysics_A1/biophysics_project.ipynb Cell 8\u001b[0m line \u001b[0;36m<cell line: 2>\u001b[0;34m()\u001b[0m\n\u001b[1;32m      <a href='vscode-notebook-cell:/home/jaume/Desktop/Year_2/Biophysics/Project%3A%20Energy_Analysis/Biophysics_A1/biophysics_project.ipynb#X33sZmlsZQ%3D%3D?line=0'>1</a>\u001b[0m \u001b[39m# Intializing the checking engine, loading the structure and showing info\u001b[39;00m\n\u001b[0;32m----> <a href='vscode-notebook-cell:/home/jaume/Desktop/Year_2/Biophysics/Project%3A%20Energy_Analysis/Biophysics_A1/biophysics_project.ipynb#X33sZmlsZQ%3D%3D?line=1'>2</a>\u001b[0m st_c \u001b[39m=\u001b[39m StructureChecking(base_dir_path, args)\n",
      "File \u001b[0;32m~/anaconda3/lib/python3.9/site-packages/biobb_structure_checking/structure_checking.py:42\u001b[0m, in \u001b[0;36mStructureChecking.__init__\u001b[0;34m(self, base_dir_path, args)\u001b[0m\n\u001b[1;32m     39\u001b[0m \u001b[39mself\u001b[39m\u001b[39m.\u001b[39margs \u001b[39m=\u001b[39m cts\u001b[39m.\u001b[39mset_defaults(base_dir_path, args)\n\u001b[1;32m     41\u001b[0m \u001b[39mself\u001b[39m\u001b[39m.\u001b[39msummary \u001b[39m=\u001b[39m {}\n\u001b[0;32m---> 42\u001b[0m \u001b[39mif\u001b[39;00m \u001b[39mself\u001b[39m\u001b[39m.\u001b[39margs[\u001b[39m'\u001b[39m\u001b[39mdebug\u001b[39m\u001b[39m'\u001b[39m] \u001b[39mor\u001b[39;00m args[\u001b[39m'\u001b[39;49m\u001b[39mtime_limit\u001b[39;49m\u001b[39m'\u001b[39;49m]:\n\u001b[1;32m     43\u001b[0m     \u001b[39mimport\u001b[39;00m \u001b[39mpsutil\u001b[39;00m\n\u001b[1;32m     44\u001b[0m     \u001b[39mself\u001b[39m\u001b[39m.\u001b[39mstart_time \u001b[39m=\u001b[39m time\u001b[39m.\u001b[39mtime()\n",
      "\u001b[0;31mKeyError\u001b[0m: 'time_limit'"
     ]
    }
   ],
   "source": [
    "# Intializing the checking engine, loading the structure and showing info\n",
    "st_c = StructureChecking(base_dir_path, args)\n"
   ]
  },
  {
   "cell_type": "markdown",
   "metadata": {},
   "source": [
    "    3 - Remove all heteroatoms\n"
   ]
  },
  {
   "cell_type": "markdown",
   "metadata": {},
   "source": [
    "    4 - Perform a quality checking on the structures, and add missing side-chains and hydrogen atoms and atom charges, using\n",
    "    the biobb_structure_checking module"
   ]
  }
 ],
 "metadata": {
  "kernelspec": {
   "display_name": "Python 3 (ipykernel)",
   "language": "python",
   "name": "python3"
  },
  "language_info": {
   "codemirror_mode": {
    "name": "ipython",
    "version": 3
   },
   "file_extension": ".py",
   "mimetype": "text/x-python",
   "name": "python",
   "nbconvert_exporter": "python",
   "pygments_lexer": "ipython3",
   "version": "3.8.10"
  }
 },
 "nbformat": 4,
 "nbformat_minor": 5
}
