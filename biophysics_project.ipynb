{
 "cells": [
  {
   "cell_type": "markdown",
   "id": "013587cf",
   "metadata": {},
   "source": [
    "INITIALIZATION"
   ]
  },
  {
   "cell_type": "code",
   "execution_count": 2,
   "id": "c261f3fe",
   "metadata": {},
   "outputs": [],
   "source": [
    "# Loading some modules\n",
    "%load_ext autoreload\n",
    "%autoreload 2\n",
    "\n",
    "# Getting basic libraries:\n",
    "import os, sys, math\n",
    "import numpy as np\n",
    "from Bio.PDB import *\n",
    "\n",
    "# Libraries for structure checking: --> \n",
    "import biobb_structure_checking\n",
    "import biobb_structure_checking.constants as cts\n",
    "from biobb_structure_checking.structure_checking import StructureChecking\n",
    "base_dir_path=biobb_structure_checking.__path__[0]\n",
    "args = cts.set_defaults(base_dir_path,{'notebook':True})"
   ]
  },
  {
   "cell_type": "markdown",
   "id": "b8e8e152",
   "metadata": {},
   "source": [
    "PREPARATION"
   ]
  },
  {
   "cell_type": "markdown",
   "metadata": {},
   "source": [
    "1 - Obtain the required structure from the PDB"
   ]
  },
  {
   "cell_type": "code",
   "execution_count": 3,
   "id": "91f7c4e0",
   "metadata": {},
   "outputs": [
    {
     "name": "stderr",
     "output_type": "stream",
     "text": [
      "/home/jaume/anaconda3/lib/python3.9/site-packages/Bio/PDB/StructureBuilder.py:89: PDBConstructionWarning: WARNING: Chain A is discontinuous at line 6961.\n",
      "  warnings.warn(\n",
      "/home/jaume/anaconda3/lib/python3.9/site-packages/Bio/PDB/StructureBuilder.py:89: PDBConstructionWarning: WARNING: Chain E is discontinuous at line 7019.\n",
      "  warnings.warn(\n",
      "/home/jaume/anaconda3/lib/python3.9/site-packages/Bio/PDB/StructureBuilder.py:89: PDBConstructionWarning: WARNING: Chain A is discontinuous at line 7033.\n",
      "  warnings.warn(\n",
      "/home/jaume/anaconda3/lib/python3.9/site-packages/Bio/PDB/StructureBuilder.py:89: PDBConstructionWarning: WARNING: Chain E is discontinuous at line 7104.\n",
      "  warnings.warn(\n"
     ]
    }
   ],
   "source": [
    "# Loading the protein into a variable\n",
    "parser = PDBParser()\n",
    "structure = parser.get_structure(\"6m0j\",\"./assignment_data/6m0j.pdb\")"
   ]
  },
  {
   "cell_type": "markdown",
   "metadata": {},
   "source": [
    "2 - Determine the contribution to the stability of the complex by mimicking a traditional Ala-scanning experiment, i.e. replacing each residue in turn by Ala and evaluating the changes in the complex interaction energy"
   ]
  },
  {
   "cell_type": "code",
   "execution_count": 5,
   "id": "431364ea",
   "metadata": {},
   "outputs": [],
   "source": [
    "# Preparing the paths\n",
    "base_path = './assignment_data/6m0j.pdb'\n",
    "args['input_structure_path'] = base_path + '6m0j.cif'\n",
    "args['output_structure_path'] = base_path + '6m0j_fixed.pdb'\n",
    "args['output_structure_path_charges'] = base_path + '6m0j_fixed.pdbqt'\n",
    "args['debug'] = False\n",
    "args['verbose'] = False"
   ]
  },
  {
   "cell_type": "markdown",
   "metadata": {},
   "source": []
  },
  {
   "cell_type": "markdown",
   "metadata": {},
   "source": [
    "3 - Remove all heteroatoms"
   ]
  },
  {
   "cell_type": "markdown",
   "metadata": {},
   "source": [
    "4 - Perform a quality checking on the structures, and add missing side-chains and hydrogen atoms and atom charges, using the biobb_structure_checking module"
   ]
  }
 ],
 "metadata": {
  "kernelspec": {
   "display_name": "Python 3 (ipykernel)",
   "language": "python",
   "name": "python3"
  },
  "language_info": {
   "codemirror_mode": {
    "name": "ipython",
    "version": 3
   },
   "file_extension": ".py",
   "mimetype": "text/x-python",
   "name": "python",
   "nbconvert_exporter": "python",
   "pygments_lexer": "ipython3",
   "version": "3.9.12"
  }
 },
 "nbformat": 4,
 "nbformat_minor": 5
}
